{
 "cells": [
  {
   "cell_type": "raw",
   "id": "a8697b01-a1dd-4b8c-90f3-862592a292bf",
   "metadata": {},
   "source": [
    "TOPIC: String Based Assignment Problem"
   ]
  },
  {
   "cell_type": "raw",
   "id": "d9e028d6-70a2-494a-968f-6f75bd024964",
   "metadata": {},
   "source": [
    "1.Write a program to reverse a string."
   ]
  },
  {
   "cell_type": "code",
   "execution_count": 4,
   "id": "331c521d-6624-4b84-b15e-9127bea2895b",
   "metadata": {},
   "outputs": [
    {
     "name": "stdin",
     "output_type": "stream",
     "text": [
      "Enter a string:  aliraza\n"
     ]
    },
    {
     "name": "stdout",
     "output_type": "stream",
     "text": [
      "Reversed string: azarila\n"
     ]
    }
   ],
   "source": [
    "input_string = input(\"Enter a string: \")\n",
    "# Using slicing to reverse the string\n",
    "reversed_str = input_string[::-1]\n",
    "result = reversed_str\n",
    "print(\"Reversed string:\", result)\n"
   ]
  },
  {
   "cell_type": "raw",
   "id": "247e9781-2d94-4d9e-922e-5bb1fa494ad2",
   "metadata": {},
   "source": [
    "2.Check if a string is a palindrome."
   ]
  },
  {
   "cell_type": "code",
   "execution_count": null,
   "id": "a4be5388-32c6-45e1-9f46-4e8ba2c37e7d",
   "metadata": {},
   "outputs": [
    {
     "name": "stdin",
     "output_type": "stream",
     "text": [
      "Enter a string:  level\n"
     ]
    },
    {
     "name": "stdout",
     "output_type": "stream",
     "text": [
      "The string is a palindrome.\n"
     ]
    }
   ],
   "source": [
    "\n",
    "input_string = input(\"Enter a string: \")\n",
    "\n",
    "if input_string == input_string[::-1] :\n",
    "    print(\"The string is a palindrome.\")\n",
    "else:\n",
    "    print(\"The string is not a palindrome.\")"
   ]
  },
  {
   "cell_type": "raw",
   "id": "b5af6b17-fd23-48f4-91ee-0eeebff35d36",
   "metadata": {},
   "source": [
    "3. Convert a string to uppercase."
   ]
  },
  {
   "cell_type": "code",
   "execution_count": 12,
   "id": "3f5aeaa9-289a-4d73-b5cd-5d96a3b96b18",
   "metadata": {},
   "outputs": [
    {
     "name": "stdin",
     "output_type": "stream",
     "text": [
      "Enter a string:  ali raza\n"
     ]
    },
    {
     "name": "stdout",
     "output_type": "stream",
     "text": [
      "ALI RAZA\n"
     ]
    }
   ],
   "source": [
    "input_string = input(\"Enter a string: \")\n",
    "print(input_string.upper())"
   ]
  },
  {
   "cell_type": "raw",
   "id": "7d7e550d-e23d-4c98-ad42-046f8124a674",
   "metadata": {},
   "source": [
    "4. Convert a string to lowercase."
   ]
  },
  {
   "cell_type": "code",
   "execution_count": 13,
   "id": "f75b3894-75d3-4373-a6fe-7b36c0178d76",
   "metadata": {},
   "outputs": [
    {
     "name": "stdin",
     "output_type": "stream",
     "text": [
      "Enter a string:  ALI\n"
     ]
    },
    {
     "name": "stdout",
     "output_type": "stream",
     "text": [
      "ali\n"
     ]
    }
   ],
   "source": [
    "input_string = input(\"Enter a string: \")\n",
    "print(input_string.lower())"
   ]
  },
  {
   "cell_type": "raw",
   "id": "31f8e087-975a-46d9-9603-f29d754c2866",
   "metadata": {},
   "source": [
    "5.Count the number of vowels in a string."
   ]
  },
  {
   "cell_type": "code",
   "execution_count": 20,
   "id": "4f8770c5-6ca6-4f6c-892d-cc28f61f64a8",
   "metadata": {},
   "outputs": [
    {
     "name": "stdin",
     "output_type": "stream",
     "text": [
      "Enter a string:  aeiou\n"
     ]
    },
    {
     "name": "stdout",
     "output_type": "stream",
     "text": [
      "5  vowles in this string\n"
     ]
    }
   ],
   "source": [
    "input_string = input(\"Enter a string: \")\n",
    "input_string=input_string.lower()\n",
    "count=0\n",
    "vowels=set(\"aeiou\")\n",
    "for char in input_string:\n",
    "    if char in vowels:\n",
    "        count+=1\n",
    "        \n",
    "print(count,\" vowles in this string\")"
   ]
  },
  {
   "cell_type": "raw",
   "id": "919e158a-3e2a-422e-8980-afc129f4f1a8",
   "metadata": {},
   "source": [
    "6.Count the number of consonants in a string."
   ]
  },
  {
   "cell_type": "code",
   "execution_count": 27,
   "id": "217d50b8-183f-4322-8271-404b34ff2f22",
   "metadata": {},
   "outputs": [
    {
     "name": "stdin",
     "output_type": "stream",
     "text": [
      "Enter a string:  23\n"
     ]
    },
    {
     "name": "stdout",
     "output_type": "stream",
     "text": [
      "0  consonants in this string\n"
     ]
    }
   ],
   "source": [
    "input_string = input(\"Enter a string: \")\n",
    "input_string=input_string.lower()\n",
    "count=0\n",
    "vowels=set(\"aeiou\")\n",
    "for char in input_string:\n",
    "    if char.isalpha() and char not in vowels:\n",
    "        count+=1\n",
    "        \n",
    "print(count,\" consonants in this string\")"
   ]
  },
  {
   "cell_type": "raw",
   "id": "697cd2e4-d7a2-48f0-8310-5a3acf9ea3e7",
   "metadata": {},
   "source": [
    "7. Remove all whitespaces from a string."
   ]
  },
  {
   "cell_type": "code",
   "execution_count": 29,
   "id": "3e6c2846-e0e2-474e-a0bd-5407d0d71d09",
   "metadata": {},
   "outputs": [
    {
     "name": "stdin",
     "output_type": "stream",
     "text": [
      "Enter a string:  ali raza\n"
     ]
    },
    {
     "name": "stdout",
     "output_type": "stream",
     "text": [
      "aliraza\n"
     ]
    }
   ],
   "source": [
    "input_string = input(\"Enter a string: \")\n",
    "print(\"\".join(input_string.split()))"
   ]
  },
  {
   "cell_type": "raw",
   "id": "a5b60db2-bfc4-4535-8925-ed0d0615d35c",
   "metadata": {},
   "source": [
    "8. Find the length of a string without using the `len()` function."
   ]
  },
  {
   "cell_type": "code",
   "execution_count": 30,
   "id": "cc05d7f3-22a7-47cf-be28-6bceff78fbb9",
   "metadata": {},
   "outputs": [
    {
     "name": "stdin",
     "output_type": "stream",
     "text": [
      "Enter a string:  ali raza\n"
     ]
    },
    {
     "name": "stdout",
     "output_type": "stream",
     "text": [
      "8  consonants in this string\n"
     ]
    }
   ],
   "source": [
    "input_string = input(\"Enter a string: \")\n",
    "count=0\n",
    "for char in input_string:\n",
    "        count+=1\n",
    "        \n",
    "print(count,\" is length of given string\")"
   ]
  },
  {
   "cell_type": "raw",
   "id": "410c8896-4c15-4f8e-b66e-7eab5330d5d7",
   "metadata": {},
   "source": [
    "9. Check if a string contains a specific word."
   ]
  },
  {
   "cell_type": "code",
   "execution_count": 32,
   "id": "5a80e29f-3fdf-4e63-96e2-44fca7fcb15c",
   "metadata": {},
   "outputs": [
    {
     "name": "stdin",
     "output_type": "stream",
     "text": [
      "Enter a string:  ali raza is a boy\n",
      "Enter the word to check:  boy\n"
     ]
    },
    {
     "name": "stdout",
     "output_type": "stream",
     "text": [
      "boy is present in given string\n"
     ]
    }
   ],
   "source": [
    "input_string = input(\"Enter a string: \")\n",
    "word_to_check = input(\"Enter the word to check: \")\n",
    "if word_to_check in input_string:\n",
    "    print(word_to_check,\"is present in given string\")"
   ]
  },
  {
   "cell_type": "raw",
   "id": "08477142-f141-4d1c-be90-add1acb6a317",
   "metadata": {},
   "source": [
    "10. Replace a word in a string with another word."
   ]
  },
  {
   "cell_type": "code",
   "execution_count": 36,
   "id": "2ddab3c5-73b0-4add-b598-0919e5cf0a74",
   "metadata": {},
   "outputs": [
    {
     "name": "stdin",
     "output_type": "stream",
     "text": [
      "Enter a string:  aniza is a boy\n",
      "Enter the word to replace:  boy\n",
      "Enter the word to replace with:  girl\n"
     ]
    },
    {
     "name": "stdout",
     "output_type": "stream",
     "text": [
      "After replacing string is  aniza is a girl\n"
     ]
    }
   ],
   "source": [
    "input_string = input(\"Enter a string: \")\n",
    "word_to_replace = input(\"Enter the word to replace: \")\n",
    "word_to_replace_with = input(\"Enter the word to replace with: \")\n",
    "print(\"After replacing string is \",input_string.replace(word_to_replace,word_to_replace_with))"
   ]
  },
  {
   "cell_type": "raw",
   "id": "401555b0-b411-4272-82ac-cbdeee74382f",
   "metadata": {},
   "source": [
    "11. Count the occurrences of a word in a string."
   ]
  },
  {
   "cell_type": "code",
   "execution_count": 38,
   "id": "e519a54f-6ff5-4ba5-a7dc-4d546a4fdb0c",
   "metadata": {},
   "outputs": [
    {
     "name": "stdin",
     "output_type": "stream",
     "text": [
      "Enter a string:  ali raza is a boy. he is a good boy\n",
      "Enter the word to check:  boy\n"
     ]
    },
    {
     "name": "stdout",
     "output_type": "stream",
     "text": [
      "the word boy occure 1  times in given string\n"
     ]
    }
   ],
   "source": [
    "input_string = input(\"Enter a string: \")\n",
    "word_to_check = input(\"Enter the word to check: \")\n",
    "input_string=input_string.lower()\n",
    "count=0\n",
    "if word_to_check in input_string:\n",
    "     count+=1\n",
    "        \n",
    "print(\"the word\",word_to_check,\"occure\",count,\" times in given string\")"
   ]
  },
  {
   "cell_type": "raw",
   "id": "7222be4e-430f-4636-8e6a-f5776261d7e7",
   "metadata": {},
   "source": [
    "12. Find the first occurrence of a word in a string."
   ]
  },
  {
   "cell_type": "code",
   "execution_count": 12,
   "id": "0f90160f-ef93-4221-8252-6a33cbb0e50a",
   "metadata": {},
   "outputs": [
    {
     "name": "stdin",
     "output_type": "stream",
     "text": [
      "Enter a string:  ali raza is a boy\n",
      "Enter the word to find:  boy\n"
     ]
    },
    {
     "name": "stdout",
     "output_type": "stream",
     "text": [
      "The first occurrence of 'boy' is at index 14.\n"
     ]
    }
   ],
   "source": [
    "\n",
    "\n",
    "\n",
    "\n",
    "\n",
    "\n",
    "input_string = input(\"Enter a string: \")\n",
    "word_to_find = input(\"Enter the word to find: \")\n",
    "input_str_lower = input_string.lower()\n",
    "target_word_lower = word_to_find.lower()\n",
    "    # Use the find method to find the index of the first occurrence\n",
    "index = input_str_lower.find(target_word_lower)\n",
    "if index != -1:\n",
    "    print(f\"The first occurrence of '{word_to_find}' is at index {index}.\")\n",
    "else:\n",
    "    print(f\"The word '{word_to_find}' is not found in the string.\")"
   ]
  },
  {
   "cell_type": "raw",
   "id": "caf31517-4379-4636-bc1a-ecc6faadffa1",
   "metadata": {},
   "source": [
    "13. Find the last occurrence of a word in a string."
   ]
  },
  {
   "cell_type": "code",
   "execution_count": 10,
   "id": "215f45a8-fa38-4756-a543-e7654ee78683",
   "metadata": {},
   "outputs": [
    {
     "name": "stdin",
     "output_type": "stream",
     "text": [
      "Enter a string:  ali raza is a boy\n",
      "Enter the word to find:  boy\n"
     ]
    },
    {
     "name": "stdout",
     "output_type": "stream",
     "text": [
      "The first occurrence of 'boy' is at index 16.\n"
     ]
    }
   ],
   "source": [
    "input_string = input(\"Enter a string: \")\n",
    "word_to_find = input(\"Enter the word to find: \")\n",
    "input_str_lower = input_string.lower()\n",
    "target_word_lower = word_to_find.lower()\n",
    "    # Use the find method to find the index of the first occurrence\n",
    "length=len(target_word_lower)\n",
    "index = input_str_lower.rfind(target_word_lower)\n",
    "if index != -1:\n",
    "    index=index+length-1\n",
    "    print(f\"The first occurrence of '{word_to_find}' is at index {index}.\")\n",
    "else:\n",
    "    print(f\"The word '{word_to_find}' is not found in the string.\")"
   ]
  },
  {
   "cell_type": "raw",
   "id": "4f3798b5-b454-471d-b817-e5825590f1aa",
   "metadata": {},
   "source": [
    "14. Split a string into a list of words."
   ]
  },
  {
   "cell_type": "code",
   "execution_count": 2,
   "id": "894d58c2-3c27-4949-be2d-dcded055f10a",
   "metadata": {},
   "outputs": [
    {
     "name": "stdin",
     "output_type": "stream",
     "text": [
      "Enter a string:  Ali raza is a boy\n"
     ]
    },
    {
     "name": "stdout",
     "output_type": "stream",
     "text": [
      "['Ali', 'raza', 'is', 'a', 'boy']\n"
     ]
    }
   ],
   "source": [
    "input_string = input(\"Enter a string: \")\n",
    "list_of_words = input_string.split()\n",
    "print(list_of_words)"
   ]
  },
  {
   "cell_type": "raw",
   "id": "71ffbea9-6493-4cc1-8ba1-c0d35860ce24",
   "metadata": {},
   "source": [
    "15. Join a list of words into a string.\n"
   ]
  },
  {
   "cell_type": "code",
   "execution_count": 3,
   "id": "a1bff521-eb73-4ed4-92df-fae37e8946a6",
   "metadata": {},
   "outputs": [
    {
     "name": "stdout",
     "output_type": "stream",
     "text": [
      "Alirazaisaboy\n"
     ]
    }
   ],
   "source": [
    "List_of_words = ['Ali', 'raza', 'is', 'a', 'boy']\n",
    "result_string = \"\".join(List_of_words)\n",
    "print(result_string)"
   ]
  },
  {
   "cell_type": "raw",
   "id": "0b46adf8-a1c3-4767-b29a-a74b7268ee2b",
   "metadata": {},
   "source": [
    "16. Convert a string where words are separated by spaces to one where words\n",
    "are separated by underscores"
   ]
  },
  {
   "cell_type": "code",
   "execution_count": 5,
   "id": "b253bcd9-d96f-43c5-be1e-bc81cae6a2dd",
   "metadata": {},
   "outputs": [
    {
     "name": "stdin",
     "output_type": "stream",
     "text": [
      "Enter a string:  Ali raza is a boy\n"
     ]
    },
    {
     "name": "stdout",
     "output_type": "stream",
     "text": [
      "Ali_raza_is_a_boy\n"
     ]
    }
   ],
   "source": [
    "input_string = input(\"Enter a string: \")\n",
    "list_of_words = input_string.replace(\" \",\"_\")\n",
    "print(list_of_words)"
   ]
  },
  {
   "cell_type": "raw",
   "id": "331ab383-9226-4c80-8ad8-90c2cc61594b",
   "metadata": {},
   "source": [
    "17. Check if a string starts with a specific word or phrase.\n"
   ]
  },
  {
   "cell_type": "code",
   "execution_count": 8,
   "id": "3234a864-fbde-4b7b-a96b-6c59ba8de0e3",
   "metadata": {},
   "outputs": [
    {
     "name": "stdin",
     "output_type": "stream",
     "text": [
      "Enter a string:  Ali raza is a boy\n",
      "Enter specific word to check:  ali\n"
     ]
    },
    {
     "name": "stdout",
     "output_type": "stream",
     "text": [
      "True\n"
     ]
    }
   ],
   "source": [
    "check_string = input(\"Enter a string: \")\n",
    "check_word = input(\"Enter specific word to check: \")\n",
    "check_word = check_word.lower()\n",
    "check_string = check_string.lower()\n",
    "check_Specific_Word = check_string.startswith(check_word)\n",
    "print(check_Specific_Word)"
   ]
  },
  {
   "cell_type": "raw",
   "id": "ce5fba79-325e-42b4-8b6f-355077a6989f",
   "metadata": {},
   "source": [
    "18. Check if a string ends with a specific word or phrase.\n"
   ]
  },
  {
   "cell_type": "code",
   "execution_count": 10,
   "id": "2348c464-c099-4b14-b0bf-706689df1548",
   "metadata": {},
   "outputs": [
    {
     "name": "stdin",
     "output_type": "stream",
     "text": [
      "Enter a string:  ALi raza is aboy\n",
      "Enter specific word to check:  aboy\n"
     ]
    },
    {
     "name": "stdout",
     "output_type": "stream",
     "text": [
      "True\n"
     ]
    }
   ],
   "source": [
    "check_string = input(\"Enter a string: \")\n",
    "check_word = input(\"Enter specific word to check: \")\n",
    "check_word = check_word.lower()\n",
    "check_string = check_string.lower()\n",
    "check_Specific_Word = check_string.endswith(check_word)\n",
    "print(check_Specific_Word)"
   ]
  },
  {
   "cell_type": "raw",
   "id": "5ded75d4-7c8a-4fdd-9443-8eab1275c265",
   "metadata": {},
   "source": [
    "19. Convert a string to title case (e.g., \"hello world\" to \"Hello World\").\n"
   ]
  },
  {
   "cell_type": "code",
   "execution_count": 12,
   "id": "67e4f110-7441-4f61-bf19-1c5263158f7d",
   "metadata": {},
   "outputs": [
    {
     "name": "stdin",
     "output_type": "stream",
     "text": [
      "Enter a string:  hello word\n"
     ]
    },
    {
     "name": "stdout",
     "output_type": "stream",
     "text": [
      "Hello Word\n"
     ]
    }
   ],
   "source": [
    "input_string = input(\"Enter a string: \")\n",
    "print(input_string.title())"
   ]
  },
  {
   "cell_type": "raw",
   "id": "f24ba95b-2063-4a6a-9213-12097910047b",
   "metadata": {},
   "source": [
    "20. Find the longest word in a string.\n"
   ]
  },
  {
   "cell_type": "code",
   "execution_count": 13,
   "id": "a557cb04-0131-49bc-a29f-503e3fecbd97",
   "metadata": {},
   "outputs": [
    {
     "name": "stdin",
     "output_type": "stream",
     "text": [
      "Enter a string:  Ali raza is a boy\n"
     ]
    },
    {
     "name": "stdout",
     "output_type": "stream",
     "text": [
      "The longest string in the word is raza\n"
     ]
    }
   ],
   "source": [
    "input_string = input(\"Enter a string: \")\n",
    "word_list = input_string.split()\n",
    "longest_word = max(word_list, key=len)\n",
    "print(\"The longest string in the word is\", longest_word)"
   ]
  },
  {
   "cell_type": "raw",
   "id": "9247b6d0-32bf-4b52-a47f-5e4d1ce440bc",
   "metadata": {},
   "source": [
    "21. Find the shortest word in a string.\n"
   ]
  },
  {
   "cell_type": "code",
   "execution_count": 14,
   "id": "afa2fb6a-65f8-4796-aa1b-293e68ea2d24",
   "metadata": {},
   "outputs": [
    {
     "name": "stdin",
     "output_type": "stream",
     "text": [
      "Enter a string:  Ali raza is a boy\n"
     ]
    },
    {
     "name": "stdout",
     "output_type": "stream",
     "text": [
      "The longest string in the word is a\n"
     ]
    }
   ],
   "source": [
    "input_string = input(\"Enter a string: \")\n",
    "word_list = input_string.split()\n",
    "shortest_word = min(word_list, key=len)\n",
    "print(\"The shortest string in the word is\", shortest_word)"
   ]
  },
  {
   "cell_type": "raw",
   "id": "ecba64f0-59e1-4b81-bda0-c8bf6e47b072",
   "metadata": {},
   "source": [
    "22. Reverse the order of words in a string.\n"
   ]
  },
  {
   "cell_type": "code",
   "execution_count": 17,
   "id": "f28c2c07-9130-46d6-b25b-6f6129a4f973",
   "metadata": {},
   "outputs": [
    {
     "name": "stdin",
     "output_type": "stream",
     "text": [
      "Enter a string:  Ali raza is a boy\n"
     ]
    },
    {
     "name": "stdout",
     "output_type": "stream",
     "text": [
      "Orignal string is:  Ali raza is a boy\n",
      "Reversed string is: boy a is raza Ali\n"
     ]
    }
   ],
   "source": [
    "input_string = input(\"Enter a string: \")\n",
    "string_list = input_string.split()\n",
    "reverse_string = reversed(string_list)\n",
    "rev = \" \".join(reverse_string)\n",
    "print(\"Orignal string is: \",input_string)\n",
    "print(\"Reversed string is:\",rev)"
   ]
  },
  {
   "cell_type": "raw",
   "id": "a8e41336-648f-4702-93cc-d3de88a63b2f",
   "metadata": {},
   "source": [
    "23. Check if a string is alphanumeric.\n"
   ]
  },
  {
   "cell_type": "code",
   "execution_count": 21,
   "id": "ae6756eb-bb39-4be8-8aa8-c3d3678ba98d",
   "metadata": {},
   "outputs": [
    {
     "name": "stdin",
     "output_type": "stream",
     "text": [
      "Enter a string:  ali25\n"
     ]
    },
    {
     "name": "stdout",
     "output_type": "stream",
     "text": [
      "True\n"
     ]
    }
   ],
   "source": [
    "input_string = input(\"Enter a string: \")\n",
    "result = input_string.isalnum()\n",
    "print(result)"
   ]
  },
  {
   "cell_type": "raw",
   "id": "ec4f61de-7582-448c-b2c9-fa0adf7f12e8",
   "metadata": {},
   "source": [
    "24. Extract all digits from a string.\n"
   ]
  },
  {
   "cell_type": "code",
   "execution_count": 25,
   "id": "a465f295-a832-42ab-aa48-0df00c5de6fb",
   "metadata": {},
   "outputs": [
    {
     "name": "stdin",
     "output_type": "stream",
     "text": [
      "Enter a string:  Ali raza is 25 year old\n"
     ]
    },
    {
     "name": "stdout",
     "output_type": "stream",
     "text": [
      "25\n"
     ]
    }
   ],
   "source": [
    "input_string = input(\"Enter a string: \")\n",
    "digit_list = [ char for char in input_string if char.isdigit()]\n",
    "result = \"\".join(digit_list)\n",
    "print(result)"
   ]
  },
  {
   "cell_type": "raw",
   "id": "ffeebed4-99f6-47e9-81d5-aac40ac3c207",
   "metadata": {},
   "source": [
    "25. Extract all alphabets from a string.\n"
   ]
  },
  {
   "cell_type": "code",
   "execution_count": 34,
   "id": "008f550d-4fd6-43d4-a751-26f7bba56877",
   "metadata": {},
   "outputs": [
    {
     "name": "stdin",
     "output_type": "stream",
     "text": [
      "Enter a string:  Ali raza is 25 year old\n"
     ]
    },
    {
     "name": "stdout",
     "output_type": "stream",
     "text": [
      "Alirazaisyearold\n"
     ]
    }
   ],
   "source": [
    "input_string = input(\"Enter a string: \")\n",
    "alpha_list = [ char for char in input_string if char.isalpha() ]\n",
    "result = \"\".join(alpha_list)\n",
    "print(result)\n"
   ]
  },
  {
   "cell_type": "raw",
   "id": "42b4f6ed-1117-4bc7-bdec-668f00555913",
   "metadata": {},
   "source": [
    "26. Count the number of uppercase letters in a string.\n"
   ]
  },
  {
   "cell_type": "code",
   "execution_count": 37,
   "id": "c429042e-4ce4-475e-b0ed-b2e4e94e9c70",
   "metadata": {},
   "outputs": [
    {
     "name": "stdin",
     "output_type": "stream",
     "text": [
      "Enter a string:  Ali Raza is a boy\n"
     ]
    },
    {
     "name": "stdout",
     "output_type": "stream",
     "text": [
      "The number of upper_case letters is  2\n"
     ]
    }
   ],
   "source": [
    "input_string = input(\"Enter a string: \")\n",
    "upper_word = sum( 1 for char in input_string if char.isupper()  )\n",
    "print(\"The number of upper_case letters is \",upper_word)"
   ]
  },
  {
   "cell_type": "raw",
   "id": "ab79b762-5b1a-4a53-bb91-94222c8bac09",
   "metadata": {},
   "source": [
    "27. Count the number of lowercase letters in a string.\n"
   ]
  },
  {
   "cell_type": "code",
   "execution_count": 38,
   "id": "328bd202-af9d-4381-873d-6783e3c8d1c2",
   "metadata": {},
   "outputs": [
    {
     "name": "stdin",
     "output_type": "stream",
     "text": [
      "Enter a string:  Ali Raza is a boy\n"
     ]
    },
    {
     "name": "stdout",
     "output_type": "stream",
     "text": [
      "The number of lower_case letters is  11\n"
     ]
    }
   ],
   "source": [
    "input_string = input(\"Enter a string: \")\n",
    "lower_word = sum( 1 for char in input_string if char.islower()  )\n",
    "print(\"The number of lower_case letters is \",lower_word)"
   ]
  },
  {
   "cell_type": "raw",
   "id": "7607d1fb-95a5-488d-9d9c-486493aa7ca7",
   "metadata": {},
   "source": [
    "28. Swap the case of each character in a string.\n"
   ]
  },
  {
   "cell_type": "code",
   "execution_count": 41,
   "id": "6cd441c9-f771-4986-ade9-5fe70a67de1f",
   "metadata": {},
   "outputs": [
    {
     "name": "stdin",
     "output_type": "stream",
     "text": [
      "Enter a string:  Ali Raza is a BOY\n"
     ]
    },
    {
     "name": "stdout",
     "output_type": "stream",
     "text": [
      "aLI rAZA IS A boy\n"
     ]
    }
   ],
   "source": [
    "input_string = input(\"Enter a string: \")\n",
    "swaped_case = input_string.swapcase()\n",
    "print(swaped_case)"
   ]
  },
  {
   "cell_type": "raw",
   "id": "9dcb9744-a34b-4759-967e-35e18ee00219",
   "metadata": {},
   "source": [
    "29. Remove a specific word from a string.\n"
   ]
  },
  {
   "cell_type": "code",
   "execution_count": 1,
   "id": "f64b8708-fef7-4eb2-9ca6-ec7639efe5f1",
   "metadata": {},
   "outputs": [
    {
     "name": "stdout",
     "output_type": "stream",
     "text": [
      "Ali is a good\n"
     ]
    }
   ],
   "source": [
    "original_string = \"Ali is a good boy\"\n",
    "word_to_remove = \"boy\"\n",
    "words = original_string.split()\n",
    "result = ' '.join(word for word in words if word != word_to_remove)\n",
    "print(result)"
   ]
  },
  {
   "cell_type": "raw",
   "id": "0e4bda2b-6fe5-4a78-8aa3-fb108585f883",
   "metadata": {},
   "source": [
    "30. Check if a string is a valid email address."
   ]
  },
  {
   "cell_type": "code",
   "execution_count": 4,
   "id": "81058152-76f0-41a8-944f-1d3d6a3f9323",
   "metadata": {},
   "outputs": [
    {
     "name": "stdin",
     "output_type": "stream",
     "text": [
      "Enter email address to check Ali\n"
     ]
    },
    {
     "name": "stdout",
     "output_type": "stream",
     "text": [
      "Invalid email address\n"
     ]
    }
   ],
   "source": [
    "import re\n",
    "pattern = r'^[a-zA-Z0-9_.+-]+@[a-zA-Z0-9-]+\\.[a-zA-Z0-9-.]+$'\n",
    "email_to_check = input(\"Enter email address to check\")\n",
    "\n",
    "if re.match(pattern, email_to_check):\n",
    "    print(\"Valid email address\")\n",
    "else:\n",
    "    print(\"Invalid email address\")"
   ]
  },
  {
   "cell_type": "raw",
   "id": "f098bdf0-e182-418d-a5aa-127ef202f11c",
   "metadata": {},
   "source": [
    "31. Extract the username from an email address string.\n"
   ]
  },
  {
   "cell_type": "code",
   "execution_count": 9,
   "id": "f8d8bac2-d471-45b3-9f90-829e601bc18e",
   "metadata": {},
   "outputs": [
    {
     "name": "stdout",
     "output_type": "stream",
     "text": [
      "Username: aliraza07\n"
     ]
    }
   ],
   "source": [
    "\n",
    "email = \"aliraza07@gmail.com\"\n",
    "username = email.split('@')[0]\n",
    "print(\"Username:\", username)"
   ]
  },
  {
   "cell_type": "raw",
   "id": "57873c93-f56f-4808-b1bf-7746c5276592",
   "metadata": {},
   "source": [
    "32. Extract the domain name from an email address string."
   ]
  },
  {
   "cell_type": "code",
   "execution_count": 10,
   "id": "bbe4a2fe-3e20-414a-926c-363fc7beb277",
   "metadata": {},
   "outputs": [
    {
     "name": "stdout",
     "output_type": "stream",
     "text": [
      "Domain Name: gmail.com\n"
     ]
    }
   ],
   "source": [
    "email = \"aliraza07@gmail.com\"\n",
    "domainName = email.split('@')[1]\n",
    "print(\"Domain Name:\", domainName)"
   ]
  },
  {
   "cell_type": "raw",
   "id": "bf19f011-bc22-4e9e-ba39-5c238055bcf6",
   "metadata": {},
   "source": [
    "33. Replace multiple spaces in a string with a single space."
   ]
  },
  {
   "cell_type": "code",
   "execution_count": 16,
   "id": "67ebdc41-6002-4e68-9c48-6aa8af7f4ed9",
   "metadata": {},
   "outputs": [
    {
     "name": "stdout",
     "output_type": "stream",
     "text": [
      "My Name is Ali Raza\n"
     ]
    }
   ],
   "source": [
    "Str1= \"My     Name    is    Ali  Raza\"\n",
    "Str2 = ' '.join(Str1.split())\n",
    "print(Str2)"
   ]
  },
  {
   "cell_type": "raw",
   "id": "27bbee12-b537-42ef-8879-7917e0deb8aa",
   "metadata": {},
   "source": [
    "34. Check if a string is a valid URL."
   ]
  },
  {
   "cell_type": "code",
   "execution_count": 18,
   "id": "82d0b84b-2cda-4b0e-a628-3ccd189063f0",
   "metadata": {},
   "outputs": [
    {
     "name": "stdout",
     "output_type": "stream",
     "text": [
      "it is valid url\n"
     ]
    }
   ],
   "source": [
    "url_check=\"http:\\\\\"\n",
    "url=\"http:\\\\alitaza.com\"\n",
    "if url_check in url:\n",
    "    print(\"it is valid url\")"
   ]
  },
  {
   "cell_type": "raw",
   "id": "97840ff6-2049-444b-83e5-d2b7d2caabbe",
   "metadata": {},
   "source": [
    "35. Extract the protocol (http or https) from a URL string."
   ]
  },
  {
   "cell_type": "code",
   "execution_count": 20,
   "id": "9d6d5092-7e5f-4bde-8e0b-9554b8077d25",
   "metadata": {},
   "outputs": [
    {
     "name": "stdout",
     "output_type": "stream",
     "text": [
      "Protocol is  http\n"
     ]
    }
   ],
   "source": [
    "url=\"http:\\\\alitaza.com\"\n",
    "protocol = url.split(':')[0]\n",
    "print(\"Protocol is \",protocol)\n"
   ]
  },
  {
   "cell_type": "raw",
   "id": "3c66fcc4-317e-4824-a778-6ed68471db66",
   "metadata": {},
   "source": [
    "36. Find the frequency of each character in a string."
   ]
  },
  {
   "cell_type": "code",
   "execution_count": 24,
   "id": "80ac2e85-7905-4a90-8e32-ab38680bdedf",
   "metadata": {},
   "outputs": [
    {
     "name": "stdout",
     "output_type": "stream",
     "text": [
      "Character Frequency: {'M': 1, 'y': 1, ' ': 4, 'n': 1, 'a': 4, 'm': 1, 'e': 1, 'i': 2, 's': 1, 'l': 1, 'r': 1, 'z': 1}\n"
     ]
    }
   ],
   "source": [
    "input_string = \"My name is ali raza\"\n",
    "frequency = {}\n",
    "for char in input_string:\n",
    "        if char in frequency:\n",
    "            frequency[char] += 1\n",
    "        else:\n",
    "            frequency[char] = 1\n",
    "\n",
    "print(\"Character Frequency:\", frequency)"
   ]
  },
  {
   "cell_type": "raw",
   "id": "815e72d3-d52f-4845-a003-21b56cf3dd12",
   "metadata": {},
   "source": [
    "38. Check if a string contains only digits."
   ]
  },
  {
   "cell_type": "code",
   "execution_count": 27,
   "id": "ebdcd1a5-3947-4015-a0a2-810317d4a9ba",
   "metadata": {},
   "outputs": [
    {
     "data": {
      "text/plain": [
       "False"
      ]
     },
     "execution_count": 27,
     "metadata": {},
     "output_type": "execute_result"
    }
   ],
   "source": [
    "input_string = \"My name is ali raza\"\n",
    "input_string.isnumeric()"
   ]
  },
  {
   "cell_type": "raw",
   "id": "a0fed563-996b-46d5-9cb1-91d881a02e59",
   "metadata": {},
   "source": [
    "39. Check if a string contains only alphabets."
   ]
  },
  {
   "cell_type": "code",
   "execution_count": 31,
   "id": "af56fb10-a58d-41f7-86fc-c4418c8865f9",
   "metadata": {},
   "outputs": [
    {
     "data": {
      "text/plain": [
       "True"
      ]
     },
     "execution_count": 31,
     "metadata": {},
     "output_type": "execute_result"
    }
   ],
   "source": [
    "input_string = \"aliraza\"\n",
    "input_string.isalpha()"
   ]
  },
  {
   "cell_type": "raw",
   "id": "5ac7f686-05b3-4021-b6fa-6ffe65493c92",
   "metadata": {},
   "source": [
    "40. Convert a string to a list of characters."
   ]
  },
  {
   "cell_type": "code",
   "execution_count": 34,
   "id": "2f62c5eb-f001-4246-b323-023da1089e46",
   "metadata": {},
   "outputs": [
    {
     "name": "stdout",
     "output_type": "stream",
     "text": [
      "['a', 'l', 'i', 'r', 'a', 'z', 'a']\n"
     ]
    }
   ],
   "source": [
    "input_string = \"aliraza\"\n",
    "input_string=list(input_string)\n",
    "print(input_string)"
   ]
  },
  {
   "cell_type": "raw",
   "id": "7754e779-f0f1-4974-af32-da7704c4cb39",
   "metadata": {},
   "source": [
    "41. Check if two strings are anagrams."
   ]
  },
  {
   "cell_type": "code",
   "execution_count": 41,
   "id": "ccdc6242-89aa-43d1-ab2f-99b1ba39136c",
   "metadata": {},
   "outputs": [
    {
     "name": "stdout",
     "output_type": "stream",
     "text": [
      "lisent and  silent  are anagrams\n"
     ]
    }
   ],
   "source": [
    "string_1 = \"lisent\"\n",
    "string_2 = \"silent\"\n",
    "string_1=string_1.lower()\n",
    "string_2 = string_2.lower()\n",
    "if sorted(string_1)==sorted(string_2):\n",
    "   print(string_1, \"and \", string_2, \" are anagrams\")\n",
    "else:\n",
    "   print(string_1, \"and \", string_2, \" are not anagrams\")"
   ]
  },
  {
   "cell_type": "raw",
   "id": "c32e796e-9c4e-4c00-9481-ba725893778b",
   "metadata": {},
   "source": [
    "42. Encode a string using a Caesar cipher."
   ]
  },
  {
   "cell_type": "code",
   "execution_count": 42,
   "id": "b9a18b14-3064-4130-b7aa-3db2e6f24160",
   "metadata": {},
   "outputs": [
    {
     "name": "stdout",
     "output_type": "stream",
     "text": [
      "Encrypted: Khoor, Zruog!\n"
     ]
    }
   ],
   "source": [
    "def caesar_cipher_encrypt(input_string, shift):\n",
    "    result = \"\"\n",
    "    for char in input_string:\n",
    "        if char.isalpha():  # Check if the character is a letter\n",
    "            shifted = ord(char) + shift  # Shift the character by 'shift' positions\n",
    "            \n",
    "            if char.islower():\n",
    "                if shifted > ord('z'):\n",
    "                    shifted = shifted - 26\n",
    "                elif shifted < ord('a'):\n",
    "                    shifted = shifted + 26\n",
    "            elif char.isupper():\n",
    "                if shifted > ord('Z'):\n",
    "                    shifted = shifted - 26\n",
    "                elif shifted < ord('A'):\n",
    "                    shifted = shifted + 26\n",
    "                    \n",
    "            result += chr(shifted)\n",
    "        else:\n",
    "            result += char  # Non-alphabetic characters remain unchanged\n",
    "    return result\n",
    "\n",
    "# Example usage\n",
    "input_string = \"Hello, World!\"\n",
    "shift = 3\n",
    "encrypted_string = caesar_cipher_encrypt(input_string, shift)\n",
    "print(\"Encrypted:\", encrypted_string)\n"
   ]
  },
  {
   "cell_type": "raw",
   "id": "2efb21a9-1a36-4d4b-b0b6-f9a230bd3e34",
   "metadata": {},
   "source": [
    "43. Decode a Caesar cipher encoded string."
   ]
  },
  {
   "cell_type": "code",
   "execution_count": 43,
   "id": "a8005eb5-75d1-4461-8575-fb40d21eec8e",
   "metadata": {},
   "outputs": [
    {
     "name": "stdout",
     "output_type": "stream",
     "text": [
      "Decoded: Hello, World!\n"
     ]
    }
   ],
   "source": [
    "def caesar_cipher_decrypt(input_string, shift):\n",
    "    result = \"\"\n",
    "    for char in input_string:\n",
    "        if char.isalpha():  # Check if the character is a letter\n",
    "            shifted = ord(char) - shift  # Shift the character backwards by 'shift' positions\n",
    "            \n",
    "            if char.islower():\n",
    "                if shifted < ord('a'):\n",
    "                    shifted = shifted + 26\n",
    "                elif shifted > ord('z'):\n",
    "                    shifted = shifted - 26\n",
    "            elif char.isupper():\n",
    "                if shifted < ord('A'):\n",
    "                    shifted = shifted + 26\n",
    "                elif shifted > ord('Z'):\n",
    "                    shifted = shifted - 26\n",
    "            \n",
    "            result += chr(shifted)\n",
    "        else:\n",
    "            result += char  # Non-alphabetic characters remain unchanged\n",
    "    return result\n",
    "\n",
    "# Example usage\n",
    "encoded_string = \"Khoor, Zruog!\"\n",
    "shift = 3\n",
    "decoded_string = caesar_cipher_decrypt(encoded_string, shift)\n",
    "print(\"Decoded:\", decoded_string)\n"
   ]
  },
  {
   "cell_type": "raw",
   "id": "18297aec-2f81-4aa3-a1fb-4768a412e949",
   "metadata": {},
   "source": [
    "44. Find the most frequent word in a string."
   ]
  },
  {
   "cell_type": "code",
   "execution_count": 51,
   "id": "096b4f4b-1d5a-423f-a070-2029714ac3ab",
   "metadata": {},
   "outputs": [
    {
     "name": "stdout",
     "output_type": "stream",
     "text": [
      "Most Frequency of letter in string  is  4\n"
     ]
    }
   ],
   "source": [
    "input_string = \"My name is ali raza\"\n",
    "frequency = {}\n",
    "for char in input_string:\n",
    "        if char in frequency:\n",
    "            frequency[char] += 1\n",
    "        else:\n",
    "            frequency[char] = 1\n",
    "\n",
    " # Find the word with the highest frequency\n",
    "most_frequent_word = None\n",
    "max_frequency = 0\n",
    "for word, freq in frequency.items():\n",
    "    if freq > max_frequency:\n",
    "        max_frequency = freq\n",
    "        most_frequent_word = word\n",
    "print(\"Most Frequency of letter in string  is \", max_frequency)        "
   ]
  },
  {
   "cell_type": "raw",
   "id": "99b0d6bf-891e-4000-8309-ed78452572b5",
   "metadata": {},
   "source": [
    "45. Find all unique words in a string."
   ]
  },
  {
   "cell_type": "code",
   "execution_count": 56,
   "id": "91d2c55c-b60a-4709-bd20-d93180e913c1",
   "metadata": {},
   "outputs": [
    {
     "name": "stdout",
     "output_type": "stream",
     "text": [
      "Unique words are  {'ali', 'boy', 'raza', 'a', 'is', 'my', 'good', 'name'}\n"
     ]
    }
   ],
   "source": [
    "input_string = \"My Name is ali raza Ali is a good boy\"\n",
    "# find all unique words\n",
    "input_string=input_string.lower()\n",
    "words=input_string.split()\n",
    "unique_words = set(words)\n",
    "print(\"Unique words are \",unique_words)"
   ]
  },
  {
   "cell_type": "code",
   "execution_count": null,
   "id": "130c9ce4-043f-459b-b0de-37bb74e3fda2",
   "metadata": {},
   "outputs": [],
   "source": [
    "46. Count the number of syllables in a string."
   ]
  },
  {
   "cell_type": "code",
   "execution_count": 57,
   "id": "14e0c72f-8792-40a3-94fc-51088d69f294",
   "metadata": {},
   "outputs": [
    {
     "name": "stdout",
     "output_type": "stream",
     "text": [
      "Number of syllables in 'Hello world': 3\n"
     ]
    }
   ],
   "source": [
    "def count_syllables(input_string):\n",
    "    vowels = \"aeiouyAEIOUY\"\n",
    "    count = 0\n",
    "    previous_char_vowel = False\n",
    "    \n",
    "    for char in input_string:\n",
    "        if char in vowels:\n",
    "            if not previous_char_vowel:\n",
    "                count += 1\n",
    "            previous_char_vowel = True\n",
    "        else:\n",
    "            previous_char_vowel = False\n",
    "    \n",
    "    # Adjust for certain endings\n",
    "    if input_string.endswith(('e', 'es')) and not input_string.endswith(('le', 'es')):\n",
    "        count -= 1\n",
    "    if input_string.endswith('le'):\n",
    "        count += 1\n",
    "    \n",
    "    # Minimum syllable count is 1\n",
    "    return max(count, 1)\n",
    "\n",
    "# Example usage\n",
    "input_string = \"Hello world\"\n",
    "syllable_count = count_syllables(input_string)\n",
    "print(f\"Number of syllables in '{input_string}': {syllable_count}\")\n"
   ]
  },
  {
   "cell_type": "raw",
   "id": "48af2b50-044f-45e1-b45d-279b2934770f",
   "metadata": {},
   "source": [
    "47. Check if a string contains any special characters."
   ]
  },
  {
   "cell_type": "code",
   "execution_count": 62,
   "id": "4f2f38d1-2c34-4d98-aada-519685f6a1ea",
   "metadata": {},
   "outputs": [
    {
     "name": "stdin",
     "output_type": "stream",
     "text": [
      "Enter a string:  Ali@\n"
     ]
    },
    {
     "name": "stdout",
     "output_type": "stream",
     "text": [
      "The string contains special characters.\n"
     ]
    }
   ],
   "source": [
    "import string\n",
    "\n",
    "input_string = input(\"Enter a string: \")\n",
    "special_characters = set(string.punctuation)  # Get all punctuation characters\n",
    "\n",
    "# Check if any character in input_string is in special_characters\n",
    "if any(char in special_characters for char in input_string):\n",
    "    print(\"The string contains special characters.\")\n",
    "else:\n",
    "    print(\"The string does not contain special characters.\")\n"
   ]
  },
  {
   "cell_type": "raw",
   "id": "c640bf9a-6048-4150-bc54-2018284a98a8",
   "metadata": {},
   "source": [
    "48. Remove the nth word from a string."
   ]
  },
  {
   "cell_type": "code",
   "execution_count": 91,
   "id": "27ce84e1-106c-4069-826b-6fe9a2212dd3",
   "metadata": {},
   "outputs": [
    {
     "name": "stdout",
     "output_type": "stream",
     "text": [
      "Result: H e l l o W o r l d\n"
     ]
    }
   ],
   "source": [
    "\n",
    "input_string = \"HelloWorld\"\n",
    "n = 4  # Remove the 3rd word (index 2)\n",
    "\n",
    "words =list(input_string)\n",
    "    \n",
    "    # Check if n is within valid range\n",
    "if n < 0 or n >= len(words):\n",
    "\n",
    "    words.pop(0)\n",
    "    \n",
    "    # Join the remaining words back into a string\n",
    "result_string = \" \".join(words)\n",
    "\n",
    "print(\"Result:\", result_string)\n",
    "\n"
   ]
  },
  {
   "cell_type": "raw",
   "id": "dc49928f-a77e-49d0-9664-828554001bd0",
   "metadata": {},
   "source": [
    "49. Insert a word at the nth position in a string."
   ]
  },
  {
   "cell_type": "code",
   "execution_count": 92,
   "id": "df0d15c5-b8d6-44a3-b56e-3020fa289a48",
   "metadata": {},
   "outputs": [
    {
     "name": "stdout",
     "output_type": "stream",
     "text": [
      "Result: Hello world! beautiful How are you?\n"
     ]
    }
   ],
   "source": [
    "def insert_word(input_string, word_to_insert, n):\n",
    "    words = input_string.split()\n",
    "    \n",
    "    # Check if n is within valid range\n",
    "    if 0 <= n <= len(words):\n",
    "        words.insert(n, word_to_insert)  # Insert the word at index n\n",
    "        result_string = \" \".join(words)\n",
    "        return result_string\n",
    "    else:\n",
    "        return \"Invalid index\"\n",
    "\n",
    "# Example usage\n",
    "input_string = \"Hello world! How are you?\"\n",
    "word_to_insert = \"beautiful\"\n",
    "n = 2  # Insert at the 3rd position (index 2)\n",
    "\n",
    "result = insert_word(input_string, word_to_insert, n)\n",
    "print(\"Result:\", result)\n"
   ]
  },
  {
   "cell_type": "raw",
   "id": "c6457045-9271-4af6-8a16-a7eaa4af9be8",
   "metadata": {},
   "source": [
    "50. Convert a CSV string to a list of lists."
   ]
  },
  {
   "cell_type": "code",
   "execution_count": 93,
   "id": "e058cceb-61af-4f2b-a3a1-53a03c20c1cc",
   "metadata": {},
   "outputs": [
    {
     "name": "stdout",
     "output_type": "stream",
     "text": [
      "CSV List:\n",
      "['Name', 'Age', 'City']\n",
      "['John', '25', 'New York']\n",
      "['Jane', '30', 'San Francisco']\n"
     ]
    }
   ],
   "source": [
    "def csv_string_to_list(csv_string):\n",
    "    lines = csv_string.strip().split('\\n')  # Split CSV string into lines\n",
    "    csv_list = [line.split(',') for line in lines]  # Split each line into a list\n",
    "    \n",
    "    return csv_list\n",
    "\n",
    "# Example usage\n",
    "csv_string = \"Name,Age,City\\nJohn,25,New York\\nJane,30,San Francisco\"\n",
    "csv_list = csv_string_to_list(csv_string)\n",
    "print(\"CSV List:\")\n",
    "for row in csv_list:\n",
    "    print(row)\n"
   ]
  },
  {
   "cell_type": "raw",
   "id": "6a04e471-1f1b-41d6-acf6-d229d4425ed4",
   "metadata": {},
   "source": []
  },
  {
   "cell_type": "code",
   "execution_count": null,
   "id": "1103b4e7-0298-4ae2-91d8-e35e833b01ba",
   "metadata": {},
   "outputs": [],
   "source": []
  },
  {
   "cell_type": "raw",
   "id": "01062e32-6540-4c8d-8429-3677a36549f8",
   "metadata": {},
   "source": [
    "1. Create a list with integers from 1 to 10."
   ]
  },
  {
   "cell_type": "code",
   "execution_count": 1,
   "id": "cda86d2a-c6cb-4c2c-a6c6-e6cc9da8763f",
   "metadata": {},
   "outputs": [
    {
     "data": {
      "text/plain": [
       "list"
      ]
     },
     "execution_count": 1,
     "metadata": {},
     "output_type": "execute_result"
    }
   ],
   "source": [
    "counting = [1,2,3,4,5,6,7,8,9,10]\n",
    "type(counting)"
   ]
  },
  {
   "cell_type": "raw",
   "id": "e4b917e0-62c6-4a88-8e0b-0228d0e284a0",
   "metadata": {},
   "source": [
    "2. Find the length of a list without using the `len()` function."
   ]
  },
  {
   "cell_type": "code",
   "execution_count": 12,
   "id": "179f007b-80fa-4e69-8bea-a5c16038f0fc",
   "metadata": {},
   "outputs": [
    {
     "name": "stdout",
     "output_type": "stream",
     "text": [
      "Length of list is  5\n"
     ]
    }
   ],
   "source": [
    "# Example usage:\n",
    "my_list = [1, 2, 3, 4, 5]\n",
    "count = 0\n",
    "for element in my_list:\n",
    "    count += 1\n",
    "print(\"Length of list is \",count)"
   ]
  },
  {
   "cell_type": "raw",
   "id": "d553a7d6-60a8-4b40-ab6f-119ba4c9f08f",
   "metadata": {},
   "source": [
    "3. Append an element to the end of a list."
   ]
  },
  {
   "cell_type": "code",
   "execution_count": 14,
   "id": "214d0d07-54ff-4ba0-9735-55c62a0a27ec",
   "metadata": {},
   "outputs": [
    {
     "name": "stdout",
     "output_type": "stream",
     "text": [
      "[1, 2, 3, 4, 5, 6, 7, 8, 9, 10, 11]\n"
     ]
    }
   ],
   "source": [
    "counting = [1,2,3,4,5,6,7,8,9,10]\n",
    "counting.append(11)\n",
    "print(counting)"
   ]
  },
  {
   "cell_type": "raw",
   "id": "43f0152b-b2bb-4a17-bdaf-e685e6a9f0f6",
   "metadata": {},
   "source": [
    "4. Insert an element at a specific index in a list."
   ]
  },
  {
   "cell_type": "code",
   "execution_count": 18,
   "id": "21c001a0-4732-4687-a9c3-167625a00f6d",
   "metadata": {},
   "outputs": [
    {
     "name": "stdout",
     "output_type": "stream",
     "text": [
      "[1, 2, 3, 'ali', 4, 5, 6, 7, 8, 9, 10]\n"
     ]
    }
   ],
   "source": [
    "counting = [1,2,3,4,5,6,7,8,9,10]\n",
    "# change number at index 3\n",
    "counting.insert(3,\"ali\")\n",
    "print(counting)"
   ]
  },
  {
   "cell_type": "raw",
   "id": "f88b081c-ea64-48e5-9006-c5f0df53eed4",
   "metadata": {},
   "source": [
    "5. Remove an element from a list by its value."
   ]
  },
  {
   "cell_type": "code",
   "execution_count": 21,
   "id": "cf41e987-e6fd-49d5-abfa-4fa188ea0b4f",
   "metadata": {},
   "outputs": [
    {
     "name": "stdout",
     "output_type": "stream",
     "text": [
      "[1, 2, 4, 5, 6, 7, 8, 9, 10]\n"
     ]
    }
   ],
   "source": [
    "counting = [1,2,'ali',4,5,6,7,8,9,10]\n",
    "# remove number at index 2 by its value\n",
    "counting.remove(\"ali\")\n",
    "print(counting)"
   ]
  },
  {
   "cell_type": "raw",
   "id": "87354454-6448-41bf-828a-f5925f709147",
   "metadata": {},
   "source": [
    "Remove an element from a list by its index."
   ]
  },
  {
   "cell_type": "code",
   "execution_count": 23,
   "id": "4f3a34a7-51f6-4325-95e2-69676c0c4ddf",
   "metadata": {},
   "outputs": [
    {
     "name": "stdout",
     "output_type": "stream",
     "text": [
      "4\n"
     ]
    }
   ],
   "source": [
    "counting = [1,2,'ali',4,5,6,7,8,9,10]\n",
    "# remove number at index 3 \n",
    "counting_pop=counting.pop(3)\n",
    "print(counting_pop)"
   ]
  },
  {
   "cell_type": "raw",
   "id": "3ccd32c5-d9c3-4485-82d3-7692b3192e3a",
   "metadata": {},
   "source": [
    "7. Check if an element exists in a list."
   ]
  },
  {
   "cell_type": "code",
   "execution_count": 24,
   "id": "5545c88c-108a-4c20-9ad3-292386bbf150",
   "metadata": {},
   "outputs": [
    {
     "name": "stdout",
     "output_type": "stream",
     "text": [
      "Yes ali is avaliable in list\n"
     ]
    }
   ],
   "source": [
    "counting = [1,2,'ali',4,5,6,7,8,9,10]\n",
    "check_num = 'ali'\n",
    "if check_num in counting:\n",
    "    print(\"Yes ali is avaliable in list\")\n",
    "else:\n",
    "    print(\"Yes ali is not avaliable in list\")"
   ]
  },
  {
   "cell_type": "raw",
   "id": "a0b86d05-a65a-463f-bcf8-021d2573e543",
   "metadata": {},
   "source": [
    "8. Find the index of the first occurrence of an element in a list."
   ]
  },
  {
   "cell_type": "code",
   "execution_count": 26,
   "id": "aa8d643b-b7f9-4677-aeed-ea656e3c31c3",
   "metadata": {},
   "outputs": [
    {
     "name": "stdout",
     "output_type": "stream",
     "text": [
      " Index of 10  is  9\n"
     ]
    }
   ],
   "source": [
    "counting = [1,2,'ali',4,5,6,7,8,9,10,7,5,4,2,3,8,4,2,3,1,7,8,9,'ali','raza']\n",
    "element_to_find = 10\n",
    "index = counting.index(element_to_find)\n",
    "print(\" Index of\",element_to_find,\" is \",index)"
   ]
  },
  {
   "cell_type": "raw",
   "id": "40920495-5e75-4de9-9030-cc34c639f961",
   "metadata": {},
   "source": [
    "9. Count the occurrences of an element in a list."
   ]
  },
  {
   "cell_type": "code",
   "execution_count": 28,
   "id": "06b3635a-8631-4e26-8c41-0642d2378cdb",
   "metadata": {},
   "outputs": [
    {
     "name": "stdout",
     "output_type": "stream",
     "text": [
      "5\n"
     ]
    }
   ],
   "source": [
    "l1=[1,2,'ali',4,5,6,7,4,9,10,7,5,4,2,3,8,4,2,3,1,7,4,9,'ali','raza']\n",
    "element_to_find = 4\n",
    "print(l1.count(element_to_find))\n"
   ]
  },
  {
   "cell_type": "code",
   "execution_count": 32,
   "id": "a232b3c1-252e-4b51-9265-ca1e6a05f1c9",
   "metadata": {},
   "outputs": [
    {
     "name": "stdout",
     "output_type": "stream",
     "text": [
      "['raza', 'ali', 9, 4, 7, 1, 3, 2, 4, 8, 3, 2, 4, 5, 7, 10, 9, 4, 7, 6, 5, 4, 'ali', 2, 1]\n"
     ]
    }
   ],
   "source": [
    "l1=[1,2,'ali',4,5,6,7,4,9,10,7,5,4,2,3,8,4,2,3,1,7,4,9,'ali','raza']\n",
    "l1.reverse()\n",
    "print(l1)"
   ]
  },
  {
   "cell_type": "raw",
   "id": "43c09f88-03bf-4dd0-bab0-1255ae3d3740",
   "metadata": {},
   "source": [
    "11. Sort a list in ascending order."
   ]
  },
  {
   "cell_type": "code",
   "execution_count": 35,
   "id": "f579eca1-c6cf-43bc-89df-2668c7d4bc10",
   "metadata": {},
   "outputs": [
    {
     "name": "stdout",
     "output_type": "stream",
     "text": [
      "[1, 1, 2, 2, 2, 3, 3, 4, 4, 4, 4, 4, 5, 5, 6, 7, 7, 7, 8, 9, 9, 10]\n"
     ]
    }
   ],
   "source": [
    "l1=[1,2,4,5,6,7,4,9,10,7,5,4,2,3,8,4,2,3,1,7,4,9]\n",
    "l1.sort()\n",
    "print(l1)"
   ]
  },
  {
   "cell_type": "raw",
   "id": "494ec5ef-21f5-46ab-a28e-c5d9939b69af",
   "metadata": {},
   "source": [
    "12. Sort a list in descending order."
   ]
  },
  {
   "cell_type": "code",
   "execution_count": 39,
   "id": "dea55a69-9a35-412a-b00a-ba7be2b06e30",
   "metadata": {},
   "outputs": [
    {
     "name": "stdout",
     "output_type": "stream",
     "text": [
      "[10, 9, 9, 8, 7, 7, 7, 6, 5, 5, 4, 4, 4, 4, 4, 3, 3, 2, 2, 2, 1, 1]\n"
     ]
    }
   ],
   "source": [
    "l1=[1,2,4,5,6,7,4,9,10,7,5,4,2,3,8,4,2,3,1,7,4,9]\n",
    "l1.sort(reverse=True)\n",
    "print(l1)"
   ]
  },
  {
   "cell_type": "raw",
   "id": "a0dc9cb6-21bb-4ccd-9ada-82a87a060dc5",
   "metadata": {},
   "source": [
    "13. Create a list of even numbers from 1 to 20."
   ]
  },
  {
   "cell_type": "code",
   "execution_count": 41,
   "id": "28a14cb7-f3a7-4f99-82d8-4494673f94db",
   "metadata": {},
   "outputs": [
    {
     "name": "stdout",
     "output_type": "stream",
     "text": [
      "[2, 4, 6, 8, 10, 12, 14, 16, 18, 20]\n"
     ]
    }
   ],
   "source": [
    "even_num = [x for x in range(2, 21, 2)]\n",
    "print(even_num)"
   ]
  },
  {
   "cell_type": "raw",
   "id": "5f9fa75c-4e8f-432e-a012-9c16dbea140f",
   "metadata": {},
   "source": [
    "14. Create a list of odd numbers from 1 to 20."
   ]
  },
  {
   "cell_type": "code",
   "execution_count": 42,
   "id": "9a245ee9-498a-4203-8e62-ad21754daac6",
   "metadata": {},
   "outputs": [
    {
     "name": "stdout",
     "output_type": "stream",
     "text": [
      "[1, 3, 5, 7, 9, 11, 13, 15, 17, 19]\n"
     ]
    }
   ],
   "source": [
    "odd_num = [x for x in range(1, 20, 2)]\n",
    "print(odd_num)"
   ]
  },
  {
   "cell_type": "raw",
   "id": "2b902464-f30a-4353-b84d-440e36568bd3",
   "metadata": {},
   "source": [
    "15. Find the sum of all elements in a list."
   ]
  },
  {
   "cell_type": "code",
   "execution_count": 47,
   "id": "ac7b7bee-51b2-4dc8-a679-b97e35b245a7",
   "metadata": {},
   "outputs": [
    {
     "name": "stdout",
     "output_type": "stream",
     "text": [
      "Sum of a list is 107\n"
     ]
    }
   ],
   "source": [
    "l1=[1,2,4,5,6,7,4,9,10,7,5,4,2,3,8,4,2,3,1,7,4,9]\n",
    "l2=sum(l1)\n",
    "print(\"Sum of a list is\",l2)"
   ]
  },
  {
   "cell_type": "raw",
   "id": "8fd64e5b-020b-4852-a288-3de8c4d002c4",
   "metadata": {},
   "source": [
    "16. Find the maximum value in a list."
   ]
  },
  {
   "cell_type": "code",
   "execution_count": 48,
   "id": "11a9910e-4158-488e-a7dc-46ef914e3860",
   "metadata": {},
   "outputs": [
    {
     "name": "stdout",
     "output_type": "stream",
     "text": [
      "10\n"
     ]
    }
   ],
   "source": [
    "l1=[1,2,4,5,6,7,4,9,10,7,5,4,2,3,8,4,2,3,1,7,4,9]\n",
    "l2=max(l1)\n",
    "print(l2)"
   ]
  },
  {
   "cell_type": "raw",
   "id": "ba74ec6d-567a-4a5c-b8c5-34a46fecceab",
   "metadata": {},
   "source": [
    "17. Find the minimum value in a list."
   ]
  },
  {
   "cell_type": "code",
   "execution_count": 50,
   "id": "5546c8da-fbff-4f2f-93ac-885f2d7b9160",
   "metadata": {},
   "outputs": [
    {
     "name": "stdout",
     "output_type": "stream",
     "text": [
      "0\n"
     ]
    }
   ],
   "source": [
    "l1=[1,2,4,0,5,6,7,4,9,10,7,5,4,2,3,8,4,2,3,1,7,4,9]\n",
    "l2=min(l1)\n",
    "print(l2)"
   ]
  },
  {
   "cell_type": "raw",
   "id": "d085e283-7b54-44c5-b53a-7882e9804ae5",
   "metadata": {},
   "source": [
    "18. Create a list of squares of numbers from 1 to 10."
   ]
  },
  {
   "cell_type": "code",
   "execution_count": 55,
   "id": "eac1355a-0977-460c-a4d8-d038d5cf2462",
   "metadata": {},
   "outputs": [
    {
     "name": "stdout",
     "output_type": "stream",
     "text": [
      "[1, 4, 9, 16, 25, 36, 49, 64, 81, 100]\n"
     ]
    }
   ],
   "source": [
    "square_num = [x**2 for x in range(1, 11, 1)]\n",
    "print(square_num)\n"
   ]
  },
  {
   "cell_type": "raw",
   "id": "e3d96730-5554-48fc-b24f-f2e0ce392250",
   "metadata": {},
   "source": [
    "19. Create a list of random numbers."
   ]
  },
  {
   "cell_type": "code",
   "execution_count": 6,
   "id": "3df2eb31-96b6-4d94-87f3-08857256dd8f",
   "metadata": {},
   "outputs": [
    {
     "name": "stdout",
     "output_type": "stream",
     "text": [
      "[4, 6, 1, 7, 7, 5, 4, 3, 2, 8]\n"
     ]
    }
   ],
   "source": [
    "import random\n",
    "random_numbers = [random.randint(1, 10) for _ in range(10)]\n",
    "print(random_numbers)"
   ]
  },
  {
   "cell_type": "raw",
   "id": "72a7fcdd-4e4c-4e15-b9a7-2061ac7f6f4b",
   "metadata": {},
   "source": [
    "20. Remove duplicates from a list."
   ]
  },
  {
   "cell_type": "code",
   "execution_count": 8,
   "id": "4545cfe6-f292-42d9-bdcf-0756d513a120",
   "metadata": {},
   "outputs": [
    {
     "name": "stdout",
     "output_type": "stream",
     "text": [
      "{1, 2, 3, 4, 5, 6, 7, 8, 33, 67, 9, 45}\n"
     ]
    }
   ],
   "source": [
    "l1=[1,2,1,3,2,4,6,7,8,5,4,33,45,67,9]\n",
    "l2=set(l1)\n",
    "print(l2)"
   ]
  },
  {
   "cell_type": "raw",
   "id": "9e45f580-a504-4ae5-80f8-891cc96d4f5d",
   "metadata": {},
   "source": [
    "21. Find the common elements between two lists."
   ]
  },
  {
   "cell_type": "code",
   "execution_count": 12,
   "id": "2ac805f3-f070-48bd-8586-8fb4c8edf9a6",
   "metadata": {},
   "outputs": [
    {
     "name": "stdout",
     "output_type": "stream",
     "text": [
      " common elements between two lists  [2, 2, 6, 45, 67, 9]\n"
     ]
    }
   ],
   "source": [
    "l1=[1,2,1,3,2,4,6,7,8,5,4,33,45,67,9]\n",
    "l2=[45,2,12,11,13,14,9,6,67,32,22,18]\n",
    "l3=[]\n",
    "for x in l1:\n",
    "    if x in l2:\n",
    "        l3.append(x)\n",
    "print(\" common elements between two lists \",l3)"
   ]
  },
  {
   "cell_type": "raw",
   "id": "88f32986-3e55-4dbd-aa79-a4a2ae68dac5",
   "metadata": {},
   "source": [
    "22. Find the difference between two lists."
   ]
  },
  {
   "cell_type": "code",
   "execution_count": 16,
   "id": "eb68234c-0f60-424c-8211-459e186e6c2b",
   "metadata": {},
   "outputs": [
    {
     "name": "stdout",
     "output_type": "stream",
     "text": [
      "these elements are differnt between two lists  [1, 1, 3, 4, 7, 8, 5, 4, 33, 12, 11, 13, 14, 32, 22, 18]\n"
     ]
    }
   ],
   "source": [
    "l1=[1,2,1,3,2,4,6,7,8,5,4,33,45,67,9]\n",
    "l2=[45,2,12,11,13,14,9,6,67,32,22,18]\n",
    "l3=[]\n",
    "for x in l1:\n",
    "    if x not in l2:\n",
    "        l3.append(x)\n",
    "\n",
    "for x in l2:\n",
    "    if x not in l1:\n",
    "        l3.append(x)\n",
    "print(\"these elements are differnt between two lists \",l3)"
   ]
  },
  {
   "cell_type": "raw",
   "id": "5e541bdf-3ef6-4b1c-859c-ae097688359d",
   "metadata": {},
   "source": [
    "23. Merge two lists."
   ]
  },
  {
   "cell_type": "code",
   "execution_count": 19,
   "id": "15b30221-f17f-4429-9cd9-8049436f48e5",
   "metadata": {},
   "outputs": [
    {
     "name": "stdout",
     "output_type": "stream",
     "text": [
      "After Mergimg two lists [1, 2, 1, 3, 2, 4, 6, 7, 8, 5, 4, 33, 45, 67, 9, 45, 2, 12, 11, 13, 14, 9, 6, 67, 32, 22, 18]\n"
     ]
    }
   ],
   "source": [
    "l1=[1,2,1,3,2,4,6,7,8,5,4,33,45,67,9]\n",
    "l2=[45,2,12,11,13,14,9,6,67,32,22,18]\n",
    "l1.extend(l2)\n",
    "print(\"After Mergimg two lists\",l1)"
   ]
  },
  {
   "cell_type": "raw",
   "id": "6d88ccf3-cf96-480c-ba9b-1824bc1d4e13",
   "metadata": {},
   "source": [
    "24. Multiply all elements in a list by 2."
   ]
  },
  {
   "cell_type": "code",
   "execution_count": 22,
   "id": "fb3d3f1e-06ba-488c-875e-4eac6c32ae33",
   "metadata": {},
   "outputs": [
    {
     "name": "stdout",
     "output_type": "stream",
     "text": [
      "Multiplied all elements in a list by 2  [2, 4, 2, 6, 4, 8, 12, 14, 16, 10, 8, 66, 90, 134, 18]\n"
     ]
    }
   ],
   "source": [
    "l1=[1,2,1,3,2,4,6,7,8,5,4,33,45,67,9]\n",
    "l3=[]\n",
    "for x in l1:\n",
    "        l3.append(x*2)\n",
    "print(\"Multiplied all elements in a list by 2 \",l3)\n"
   ]
  },
  {
   "cell_type": "raw",
   "id": "ba390ee8-bfbc-4c78-bb6d-30e954ffdc40",
   "metadata": {},
   "source": [
    "25. Filter out all even numbers from a list."
   ]
  },
  {
   "cell_type": "code",
   "execution_count": 26,
   "id": "ad43b2b1-62ff-4559-9750-6686a7e5ec56",
   "metadata": {},
   "outputs": [
    {
     "name": "stdout",
     "output_type": "stream",
     "text": [
      " [2, 2, 4, 6, 8, 4]\n"
     ]
    }
   ],
   "source": [
    "l1=[1,2,1,3,2,4,6,7,8,5,4,33,45,67,9]\n",
    "l3=[]\n",
    "for x in l1:\n",
    "    if x%2==0:\n",
    "        l3.append(x)\n",
    "print(\"all even numbers from a list\",l3)"
   ]
  },
  {
   "cell_type": "raw",
   "id": "ca6cdea1-9a95-44aa-8132-d84e3f227e84",
   "metadata": {},
   "source": [
    "26. Convert a list of strings to a list of integers."
   ]
  },
  {
   "cell_type": "code",
   "execution_count": 29,
   "id": "25555fea-d4a5-4fb9-b4a3-67902553c821",
   "metadata": {},
   "outputs": [
    {
     "name": "stdout",
     "output_type": "stream",
     "text": [
      "list of strings to a list of integers [1, 2, 3, 4, 5]\n"
     ]
    }
   ],
   "source": [
    "\n",
    "string_list = [\"1\", \"2\", \"3\", \"4\", \"5\"]\n",
    "integer_list = [int(item) for item in string_list]\n",
    "print(\"list of strings to a list of integers\",integer_list)\n"
   ]
  },
  {
   "cell_type": "raw",
   "id": "f0f2bdfe-7078-47c5-835c-e93090bebfdd",
   "metadata": {},
   "source": [
    "27. Convert a list of integers to a list of strings."
   ]
  },
  {
   "cell_type": "code",
   "execution_count": 32,
   "id": "ccceaafd-6442-46d0-a5e2-506f7188cb01",
   "metadata": {},
   "outputs": [
    {
     "name": "stdout",
     "output_type": "stream",
     "text": [
      "list of integers to a list of strings ['1', '2', '3', '4', '5']\n"
     ]
    }
   ],
   "source": [
    "\n",
    "string_list = [1, 2, 3, 4, 5]\n",
    "\n",
    "integer_list = [str(x) for x in string_list]\n",
    "\n",
    "print(\"list of integers to a list of strings\",integer_list)"
   ]
  },
  {
   "cell_type": "raw",
   "id": "728bdeb9-5700-4691-b005-99d9fe2d58d2",
   "metadata": {},
   "source": [
    "28. Flatten a nested list."
   ]
  },
  {
   "cell_type": "code",
   "execution_count": 37,
   "id": "09b3e9d4-2d02-4d5d-aa44-6138e7a7c238",
   "metadata": {},
   "outputs": [
    {
     "name": "stdout",
     "output_type": "stream",
     "text": [
      "[1, 2, 1, 3, 2, 4, 6, 7, 8, 5, 4, 33, 45, 67, 9]\n"
     ]
    }
   ],
   "source": [
    "l1=[1,2,1,[3,2,4,6],7,8,5,4,[33,45,67,9]]\n",
    "l2=[]\n",
    "for char in l1:\n",
    "    if isinstance(char, list):\n",
    "        l2.extend(char)\n",
    "    else:\n",
    "        l2.append(char)\n",
    "print(l2)\n",
    "   "
   ]
  },
  {
   "cell_type": "raw",
   "id": "fb7c9a9b-c723-4e1a-bff3-a2bb57037e3e",
   "metadata": {},
   "source": [
    "29. Create a list of the first 10 Fibonacci numbers."
   ]
  },
  {
   "cell_type": "code",
   "execution_count": 42,
   "id": "f38c44f6-5fb8-4977-9904-62e27dcf21d0",
   "metadata": {},
   "outputs": [
    {
     "name": "stdout",
     "output_type": "stream",
     "text": [
      "first 10 Fibonacci numbers [0, 1, 1, 2, 3, 5, 8, 13, 21, 34]\n"
     ]
    }
   ],
   "source": [
    "fibonacci_num = [0, 1]\n",
    "for i in range(2, 10):\n",
    "        next_number = fibonacci_num[-1] + fibonacci_num[-2]\n",
    "        fibonacci_num.append(next_number)\n",
    "print(\"first 10 Fibonacci numbers\",fibonacci_num)"
   ]
  },
  {
   "cell_type": "raw",
   "id": "56130118-8451-4d8a-9a9a-4f8b3daccb33",
   "metadata": {},
   "source": [
    "30. Check if a list is sorted."
   ]
  },
  {
   "cell_type": "code",
   "execution_count": 51,
   "id": "6c2a399e-45bb-450d-8f52-5753b6be235c",
   "metadata": {},
   "outputs": [
    {
     "name": "stdout",
     "output_type": "stream",
     "text": [
      "list is not sorted\n"
     ]
    }
   ],
   "source": [
    "l1=[1, 2, 1, 3, 2, 4, 6, 7, 8, 5, 4, 33, 45, 67, 9]\n",
    "def is_list_sorted(l1):\n",
    "    for char in range(1,len(l1)):\n",
    "        if l1[char]<l1[char-1]:\n",
    "            return False\n",
    "    return True\n",
    "if is_list_sorted(l1):\n",
    "    print(\"list is sorted\")\n",
    "else:\n",
    "     print(\"list is not sorted\")   "
   ]
  },
  {
   "cell_type": "raw",
   "id": "d06a709a-290c-435e-b60d-c4f2ebec14ec",
   "metadata": {},
   "source": [
    "31. Rotate a list to the left by `n` positions."
   ]
  },
  {
   "cell_type": "code",
   "execution_count": 73,
   "id": "307d31b6-2d48-408b-b806-3c465e0607f7",
   "metadata": {},
   "outputs": [
    {
     "name": "stdout",
     "output_type": "stream",
     "text": [
      "list to the left by 3 positions  [1, 8, 5, 4, 33, 45, 67, 9, 1, 2]\n"
     ]
    }
   ],
   "source": [
    "lst=[1, 2, 1, 8, 5, 4, 33, 45, 67, 9]\n",
    "n=2 # rotate to the left by 3 positions\n",
    "n = n % len(lst)\n",
    "l2=lst[n:] + lst[:n]\n",
    "print(\"list to the left by 3 positions \",l2)"
   ]
  },
  {
   "cell_type": "raw",
   "id": "1400ef2b-84fd-43a5-b387-65faf5fb7195",
   "metadata": {},
   "source": [
    "32. Rotate a list to the right by `n` positions."
   ]
  },
  {
   "cell_type": "code",
   "execution_count": 72,
   "id": "b49e027e-3fb3-4048-8fe9-495b6e90c9b7",
   "metadata": {},
   "outputs": [
    {
     "name": "stdout",
     "output_type": "stream",
     "text": [
      "list to the right by 3 positions  [67, 9, 1, 2, 1, 8, 5, 4, 33, 45]\n"
     ]
    }
   ],
   "source": [
    "lst=[1, 2, 1, 8, 5, 4, 33, 45, 67, 9]\n",
    "n=2 # rotate to the right by 2 positions\n",
    "n = n % len(lst)\n",
    "l2= lst[-n:]+lst[:-n] \n",
    "print(\"list to the right by 3 positions \",l2)"
   ]
  },
  {
   "cell_type": "raw",
   "id": "44bbfdf3-1ceb-48cd-af93-7b0e421d8cf8",
   "metadata": {},
   "source": [
    "33. Create a list of prime numbers up to 50."
   ]
  },
  {
   "cell_type": "code",
   "execution_count": 87,
   "id": "99f54f9c-18f2-4060-a502-b0c0c34ffae2",
   "metadata": {},
   "outputs": [
    {
     "name": "stdout",
     "output_type": "stream",
     "text": [
      "list of prime numbers up to 50 [7, 11, 13, 17, 19, 23, 29, 31, 37, 41, 43, 47, 49]\n"
     ]
    }
   ],
   "source": [
    "l1=[]\n",
    "for char in range(2,51):\n",
    "    if char%char==0 and char%2!=0 and char%3!=0 and char%5!=0:\n",
    "        l1.append(char)\n",
    "print(\"list of prime numbers up to 50\",l1)"
   ]
  },
  {
   "cell_type": "code",
   "execution_count": 87,
   "id": "dccb81b4-81d4-4b52-bab1-60f971155c02",
   "metadata": {},
   "outputs": [
    {
     "name": "stdout",
     "output_type": "stream",
     "text": [
      "list of prime numbers up to 50 [7, 11, 13, 17, 19, 23, 29, 31, 37, 41, 43, 47, 49]\n"
     ]
    }
   ],
   "source": [
    "l1=[]\n",
    "for char in range(2,51):\n",
    "    if char%char==0 and char%2!=0 and char%3!=0 and char%5!=0:\n",
    "        l1.append(char)\n",
    "print(\"list of prime numbers up to 50\",l1)"
   ]
  },
  {
   "cell_type": "raw",
   "id": "d7edfbcb-3ec7-4e72-be53-799497dc5901",
   "metadata": {},
   "source": [
    "34. Split a list into chunks of size `n`."
   ]
  },
  {
   "cell_type": "code",
   "execution_count": 4,
   "id": "1e558144-276e-40f1-b79c-0a4fa6b5c6c4",
   "metadata": {},
   "outputs": [
    {
     "name": "stdout",
     "output_type": "stream",
     "text": [
      "[[1, 2, 3], [4, 5, 6], [7, 8, 9]]\n"
     ]
    }
   ],
   "source": [
    "my_lst = [1, 2, 3, 4, 5, 6, 7, 8, 9]\n",
    "chunk_size = 3\n",
    "l1=[my_lst[i:i + chunk_size] for i in range(0, len(my_lst), chunk_size)]\n",
    "print(l1)"
   ]
  },
  {
   "cell_type": "raw",
   "id": "b59875e0-91f9-4f4c-a7a1-4d974d16f141",
   "metadata": {},
   "source": [
    "35. Find the second largest number in a list."
   ]
  },
  {
   "cell_type": "code",
   "execution_count": 12,
   "id": "6e24de28-2473-4b12-ad7a-a308adaa5589",
   "metadata": {},
   "outputs": [
    {
     "name": "stdout",
     "output_type": "stream",
     "text": [
      " second largest number in a list is 45\n"
     ]
    }
   ],
   "source": [
    "my_lst = [1, 21, 13, 4, 45, 61, 7, 8, 9]\n",
    "l1=sorted(my_lst)\n",
    "print(\" second largest number in a list is\",l1[-2])"
   ]
  },
  {
   "cell_type": "raw",
   "id": "b7279382-e89a-4aa6-b696-be883ea08404",
   "metadata": {},
   "source": [
    "36. Replace every element in a list with its square."
   ]
  },
  {
   "cell_type": "code",
   "execution_count": 17,
   "id": "f36429c2-dd72-4f04-afeb-4a3adb93722c",
   "metadata": {},
   "outputs": [
    {
     "name": "stdout",
     "output_type": "stream",
     "text": [
      "[1, 441, 169, 16, 2025, 3721, 49, 64, 81]\n"
     ]
    }
   ],
   "source": [
    "my_lst = [1, 21, 13, 4, 45, 61, 7, 8, 9]\n",
    "l1= [char**2 for char in my_lst]\n",
    "print(l1)"
   ]
  },
  {
   "cell_type": "raw",
   "id": "01803dbd-6044-4478-a6ab-9e6b9c0ba152",
   "metadata": {},
   "source": [
    "37. Convert a list to a dictionary where list elements become keys and their\n",
    "indices become values."
   ]
  },
  {
   "cell_type": "code",
   "execution_count": 20,
   "id": "8c444d9c-abeb-46f9-9d4d-b2e666802b48",
   "metadata": {},
   "outputs": [
    {
     "name": "stdout",
     "output_type": "stream",
     "text": [
      "{1: 0, 21: 1, 13: 2, 4: 3, 45: 4, 61: 5, 7: 6, 8: 7, 9: 8}\n"
     ]
    }
   ],
   "source": [
    "my_lst = [1, 21, 13, 4, 45, 61, 7, 8, 9]\n",
    "l1={element: index for index, element in enumerate(my_lst)}\n",
    "print(l1)"
   ]
  },
  {
   "cell_type": "raw",
   "id": "0b5c3825-4018-48a2-96b8-6cd0cc8c27c4",
   "metadata": {},
   "source": [
    "38. Shuffle the elements of a list randomly."
   ]
  },
  {
   "cell_type": "code",
   "execution_count": 22,
   "id": "d9f914e0-8440-4feb-a12c-a09ad5d2b30c",
   "metadata": {},
   "outputs": [
    {
     "name": "stdout",
     "output_type": "stream",
     "text": [
      "[5, 2, 1, 8, 7, 3, 6, 9, 4]\n"
     ]
    }
   ],
   "source": [
    "import random\n",
    "my_lst = [1, 2, 3, 4, 5, 6, 7, 8, 9]\n",
    "random.shuffle(my_lst)\n",
    "print(my_lst)"
   ]
  },
  {
   "cell_type": "raw",
   "id": "ccf25618-e765-4018-8ce3-1d8540cec312",
   "metadata": {},
   "source": [
    "39. Create a list of the first 10 factorial numbers."
   ]
  },
  {
   "cell_type": "code",
   "execution_count": 23,
   "id": "b230f3e3-5709-49fb-8637-ce93701ef67e",
   "metadata": {},
   "outputs": [
    {
     "name": "stdout",
     "output_type": "stream",
     "text": [
      "[1, 1, 2, 6, 24, 120, 720, 5040, 40320, 362880]\n"
     ]
    }
   ],
   "source": [
    "import math\n",
    "factorial_num=[math.factorial(i) for i in range(10)]\n",
    "print(factorial_num)"
   ]
  },
  {
   "cell_type": "raw",
   "id": "9f23fe64-e724-4289-8942-40cd11f8c080",
   "metadata": {},
   "source": [
    "40. Check if two lists have at least one element in common."
   ]
  },
  {
   "cell_type": "code",
   "execution_count": 29,
   "id": "0d3ad197-8929-4f83-9bac-fd00cf49ee82",
   "metadata": {},
   "outputs": [
    {
     "name": "stdout",
     "output_type": "stream",
     "text": [
      " two lists have at least one element in common\n"
     ]
    }
   ],
   "source": [
    "list1 = [1, 2, 3, 4, 5]\n",
    "list2 = [5, 6, 7, 8, 9]\n",
    "if bool(set(list1) & set(list2)):\n",
    "    print(\" two lists have at least one element in common\")"
   ]
  },
  {
   "cell_type": "raw",
   "id": "32946b39-1b3a-49eb-9200-60a3075b4e24",
   "metadata": {},
   "source": [
    "41. Remove all elements from a list."
   ]
  },
  {
   "cell_type": "code",
   "execution_count": 31,
   "id": "0cd9e969-c424-45ea-9950-b96a250f80aa",
   "metadata": {},
   "outputs": [
    {
     "name": "stdout",
     "output_type": "stream",
     "text": [
      "[]\n"
     ]
    }
   ],
   "source": [
    "list1 = [1, 2, 3, 4, 5]\n",
    "list1.clear()\n",
    "print(list1)"
   ]
  },
  {
   "cell_type": "raw",
   "id": "858ee351-1667-47df-98f2-5a57839a5df0",
   "metadata": {},
   "source": [
    "42. Replace negative numbers in a list with 0."
   ]
  },
  {
   "cell_type": "code",
   "execution_count": 32,
   "id": "93e79970-c9cd-4fb6-bcfa-c883b219f417",
   "metadata": {},
   "outputs": [
    {
     "name": "stdout",
     "output_type": "stream",
     "text": [
      "[1, 2, 3, 4, 5, 0, 4, 0, 66, 0, 0]\n"
     ]
    }
   ],
   "source": [
    "lst = [1, 2, 3, 4, 5,-9,4,-2,66,-77,-22]\n",
    "l1=[]\n",
    "for x in lst:\n",
    "    if x<0:\n",
    "        l1.append(0)\n",
    "    else:\n",
    "        l1.append(x)\n",
    "print(l1)\n",
    "        "
   ]
  },
  {
   "cell_type": "raw",
   "id": "0403e8e7-098b-4583-a15c-b0d068e7b5f7",
   "metadata": {},
   "source": [
    "43. Convert a string into a list of words."
   ]
  },
  {
   "cell_type": "code",
   "execution_count": 35,
   "id": "a966ca3c-047f-41b3-8c93-5402efb072b3",
   "metadata": {},
   "outputs": [
    {
     "name": "stdout",
     "output_type": "stream",
     "text": [
      "['My', 'Name', 'is', 'Ali', 'raza']\n"
     ]
    }
   ],
   "source": [
    "string='My Name is Ali raza'\n",
    "lst=string.split()\n",
    "print(lst)"
   ]
  },
  {
   "cell_type": "raw",
   "id": "34055cb4-c431-4f71-9848-92e850b49299",
   "metadata": {},
   "source": [
    "44. Convert a list of words into a string."
   ]
  },
  {
   "cell_type": "code",
   "execution_count": 37,
   "id": "c38e7005-10cf-4773-997e-fd53a11dfb54",
   "metadata": {},
   "outputs": [
    {
     "name": "stdout",
     "output_type": "stream",
     "text": [
      "My Name is Ali raza\n"
     ]
    }
   ],
   "source": [
    "lst=['My', 'Name', 'is', 'Ali', 'raza']\n",
    "string=\" \".join(lst)\n",
    "print(string)"
   ]
  },
  {
   "cell_type": "raw",
   "id": "e7c96398-dc4c-4b31-99ca-6713653c945b",
   "metadata": {},
   "source": [
    "45. Create a list of the first `n` powers of 2."
   ]
  },
  {
   "cell_type": "code",
   "execution_count": 39,
   "id": "1ad9bbf4-2b58-456f-9a51-0fa1a1bb2d2a",
   "metadata": {},
   "outputs": [
    {
     "name": "stdout",
     "output_type": "stream",
     "text": [
      "[1, 4, 9, 16, 25, 36, 49]\n"
     ]
    }
   ],
   "source": [
    "lst=[char**2 for char in range(1,8)]\n",
    "print(lst)"
   ]
  },
  {
   "cell_type": "raw",
   "id": "7520f1e5-90b8-4dd2-8b7a-e79a910cf3cc",
   "metadata": {},
   "source": [
    "46. Find the longest string in a list of strings."
   ]
  },
  {
   "cell_type": "code",
   "execution_count": 40,
   "id": "a0182186-76fb-4148-bd96-78a984b5d5eb",
   "metadata": {},
   "outputs": [
    {
     "name": "stdout",
     "output_type": "stream",
     "text": [
      "blueberry\n"
     ]
    }
   ],
   "source": [
    "lst = [\"apple\", \"banana\", \"cherry\", \"blueberry\", \"kiwi\"]\n",
    "print(max(lst, key=len))"
   ]
  },
  {
   "cell_type": "raw",
   "id": "1678e9b9-0f0b-4817-b62f-3bf93d2baf39",
   "metadata": {},
   "source": [
    "47. Find the shortest string in a list of strings."
   ]
  },
  {
   "cell_type": "code",
   "execution_count": 41,
   "id": "9bbbf693-4bf9-49da-b504-748853567759",
   "metadata": {},
   "outputs": [
    {
     "name": "stdout",
     "output_type": "stream",
     "text": [
      "kiwi\n"
     ]
    }
   ],
   "source": [
    "lst = [\"apple\", \"banana\", \"cherry\", \"blueberry\", \"kiwi\"]\n",
    "print(min(lst, key=len))"
   ]
  },
  {
   "cell_type": "raw",
   "id": "ba200e98-c54a-42f6-b00b-ad43460308e9",
   "metadata": {},
   "source": [
    "48. Create a list of the first `n` triangular numbers."
   ]
  },
  {
   "cell_type": "code",
   "execution_count": 42,
   "id": "550588ae-a771-42e5-b41b-732476f20833",
   "metadata": {},
   "outputs": [
    {
     "name": "stdout",
     "output_type": "stream",
     "text": [
      "[1, 3, 6, 10, 15, 21, 28, 36, 45, 55]\n"
     ]
    }
   ],
   "source": [
    "num=[(i * (i + 1)) // 2 for i in range(1,11)]\n",
    "print(num)"
   ]
  },
  {
   "cell_type": "raw",
   "id": "021300e3-f9b3-4686-b979-fca4fd37488f",
   "metadata": {},
   "source": [
    "49. Check if a list contains another list as a subsequence."
   ]
  },
  {
   "cell_type": "code",
   "execution_count": null,
   "id": "f5cf8921-deb9-4ea5-bd19-09d7cdb32a65",
   "metadata": {},
   "outputs": [],
   "source": [
    "lst = [1, 2, 3, 4, 5]\n",
    "sub_lst = [2, 4]\n",
    "it = iter(lst)\n",
    "l1=[all(item in it for item in sub_lst)]\n",
    "print(l1)"
   ]
  },
  {
   "cell_type": "raw",
   "id": "afc43e58-f248-4106-bd86-7c66db627773",
   "metadata": {},
   "source": [
    "50. Swap two elements in a list by their indices."
   ]
  },
  {
   "cell_type": "code",
   "execution_count": 55,
   "id": "e87ff042-061d-4f7c-8625-f9e4c9620941",
   "metadata": {},
   "outputs": [
    {
     "name": "stdout",
     "output_type": "stream",
     "text": [
      "[1, 5, 3, 4, 2]\n"
     ]
    }
   ],
   "source": [
    "lst = [1, 2, 3, 4, 5]\n",
    "id1=1\n",
    "id2=4\n",
    "temp=lst[id1]\n",
    "lst[id1]=lst[id2]\n",
    "lst[id2]=temp\n",
    "print(lst)\n",
    "\n"
   ]
  },
  {
   "cell_type": "code",
   "execution_count": null,
   "id": "c3399c9d-1bfe-4d43-ace6-1920bb965a05",
   "metadata": {},
   "outputs": [],
   "source": []
  },
  {
   "cell_type": "raw",
   "id": "b2a41b92-5b6f-4c1d-be0d-7fe4feb5f5ce",
   "metadata": {},
   "source": [
    "1. Create a tuple with integers from 1 to 5."
   ]
  },
  {
   "cell_type": "code",
   "execution_count": 1,
   "id": "2aadfa33-de40-4603-b7f7-b71e748b8154",
   "metadata": {},
   "outputs": [
    {
     "data": {
      "text/plain": [
       "tuple"
      ]
     },
     "execution_count": 1,
     "metadata": {},
     "output_type": "execute_result"
    }
   ],
   "source": [
    "t=(1,2,3,4,5)\n",
    "type(t)"
   ]
  },
  {
   "cell_type": "raw",
   "id": "6f0ecd08-cd57-4d10-9c7d-c5798974cc4f",
   "metadata": {},
   "source": [
    "2. Access the third element of a tuple."
   ]
  },
  {
   "cell_type": "code",
   "execution_count": 3,
   "id": "43e24f6a-f2a7-4d66-b828-81570b1efe48",
   "metadata": {},
   "outputs": [
    {
     "name": "stdout",
     "output_type": "stream",
     "text": [
      " third element of a tuple is 3\n"
     ]
    }
   ],
   "source": [
    "t=(1,2,3,4,5)\n",
    "print(\" third element of a tuple is\",t[2])"
   ]
  },
  {
   "cell_type": "raw",
   "id": "2f765147-6a73-4f05-9ea5-3b085f9206a3",
   "metadata": {},
   "source": [
    "3. Find the length of a tuple without using the `len()` function."
   ]
  },
  {
   "cell_type": "code",
   "execution_count": 5,
   "id": "e06485d2-7b5c-48d5-a554-0576ddfa7335",
   "metadata": {},
   "outputs": [
    {
     "name": "stdout",
     "output_type": "stream",
     "text": [
      "length of a tuple is  9\n"
     ]
    }
   ],
   "source": [
    "t=(1,2,3,4,5,6,7,8,9)\n",
    "count=0\n",
    "for char in t:\n",
    "    count= count+1\n",
    "print(\"length of a tuple is \",count)"
   ]
  },
  {
   "cell_type": "raw",
   "id": "8f9e77d7-7267-453c-9ed1-c5fbd6e0ca8a",
   "metadata": {},
   "source": [
    "4. Count the occurrences of an element in a tuple."
   ]
  },
  {
   "cell_type": "code",
   "execution_count": 7,
   "id": "ff0fccf6-2f9c-48b8-8d5c-a1563999ac95",
   "metadata": {},
   "outputs": [
    {
     "name": "stdout",
     "output_type": "stream",
     "text": [
      "occurance of 4 is  3 time\n"
     ]
    }
   ],
   "source": [
    "t=(3,4,1,5,6,4,7,8,3,9,65,32,4)\n",
    "#count the occurance of 4\n",
    "print(\"occurance of 4 is \",t.count(4),\"time\")"
   ]
  },
  {
   "cell_type": "raw",
   "id": "7966c2c6-4c30-4c3c-bef7-56c3791c01e5",
   "metadata": {},
   "source": [
    "5. Find the index of the first occurrence of an element in a tuple."
   ]
  },
  {
   "cell_type": "code",
   "execution_count": 9,
   "id": "5f258980-e84a-4729-ba89-8c786ecd124d",
   "metadata": {},
   "outputs": [
    {
     "name": "stdout",
     "output_type": "stream",
     "text": [
      "first occurance of 5 is at  3 index\n"
     ]
    }
   ],
   "source": [
    "t=(3,4,1,5,6,4,7,8,3,9,5,32,4)\n",
    "# check the first  occurance of 5\n",
    "print(\"first occurance of 5 is at \",t.index(5),\"index\")"
   ]
  },
  {
   "cell_type": "raw",
   "id": "08db0a66-6533-4d36-86c6-2fb845c85620",
   "metadata": {},
   "source": [
    "6. Check if an element exists in a tuple."
   ]
  },
  {
   "cell_type": "code",
   "execution_count": 20,
   "id": "607b36ec-28cc-4101-9a9a-7bbea34bd3eb",
   "metadata": {},
   "outputs": [
    {
     "name": "stdout",
     "output_type": "stream",
     "text": [
      "element not exists in a tuple\n"
     ]
    }
   ],
   "source": [
    "t=(1,2,3,4,5,6,7,8,9)\n",
    "element_to_check=31\n",
    "if element_to_check in t:\n",
    "    print(\"element exists in a tuple\")\n",
    "else:\n",
    "    print(\"element not exists in a tuple\")"
   ]
  },
  {
   "cell_type": "raw",
   "id": "749348c1-a0ac-4609-9ca6-773555d317ae",
   "metadata": {},
   "source": [
    "7. Convert a tuple to a list."
   ]
  },
  {
   "cell_type": "code",
   "execution_count": 23,
   "id": "c403a4d3-4885-4830-94d1-f24c7d384499",
   "metadata": {},
   "outputs": [
    {
     "name": "stdout",
     "output_type": "stream",
     "text": [
      "[1, 2, 3, 4, 5, 6, 7, 8, 9]\n",
      "<class 'list'>\n"
     ]
    }
   ],
   "source": [
    "t=(1,2,3,4,5,6,7,8,9)\n",
    "l=list(t)\n",
    "print(l)\n",
    "print(type(l))"
   ]
  },
  {
   "cell_type": "raw",
   "id": "b91fdee2-16b5-4320-90fd-1931eddaeafc",
   "metadata": {},
   "source": [
    "8. Convert a list to a tuple."
   ]
  },
  {
   "cell_type": "code",
   "execution_count": 25,
   "id": "ff1f2787-65f8-472f-a4fd-2b1de428593b",
   "metadata": {},
   "outputs": [
    {
     "name": "stdout",
     "output_type": "stream",
     "text": [
      "(1, 2, 3, 4, 5, 6, 7, 8, 9)\n",
      "<class 'tuple'>\n"
     ]
    }
   ],
   "source": [
    "l=[1, 2, 3, 4, 5, 6, 7, 8, 9]\n",
    "t=tuple(l)\n",
    "print(t)\n",
    "print(type(t))"
   ]
  },
  {
   "cell_type": "raw",
   "id": "503d2ff5-f968-49ec-a9fa-c112049efce2",
   "metadata": {},
   "source": [
    "9. Unpack the elements of a tuple into variables."
   ]
  },
  {
   "cell_type": "code",
   "execution_count": 26,
   "id": "389a5cce-527e-4334-9797-221b455c299a",
   "metadata": {},
   "outputs": [
    {
     "name": "stdout",
     "output_type": "stream",
     "text": [
      "1 2 3\n"
     ]
    }
   ],
   "source": [
    "t=(1,2,3)\n",
    "a,b,c=t\n",
    "print(a,b,c)"
   ]
  },
  {
   "cell_type": "raw",
   "id": "48d17509-64be-4e1b-9523-f80311028dec",
   "metadata": {},
   "source": [
    "10. Create a tuple of even numbers from 1 to 10."
   ]
  },
  {
   "cell_type": "code",
   "execution_count": 32,
   "id": "578aed34-d162-4d74-a373-16d7144917b3",
   "metadata": {},
   "outputs": [
    {
     "name": "stdout",
     "output_type": "stream",
     "text": [
      "(2, 4, 6, 8, 10)\n"
     ]
    }
   ],
   "source": [
    "t=tuple(x for x in range(1,11)if x%2==0)\n",
    "print(t)"
   ]
  },
  {
   "cell_type": "raw",
   "id": "01a02f79-4fe3-4059-813a-39ce1e2fc8b6",
   "metadata": {},
   "source": [
    "11. Create a tuple of odd numbers from 1 to 10."
   ]
  },
  {
   "cell_type": "code",
   "execution_count": 33,
   "id": "7da2addf-90fd-4386-bc57-762a3fd1c7e0",
   "metadata": {},
   "outputs": [
    {
     "name": "stdout",
     "output_type": "stream",
     "text": [
      "(1, 3, 5, 7, 9)\n"
     ]
    }
   ],
   "source": [
    "t=tuple(x for x in range(1,11)if x%2!=0)\n",
    "print(t)"
   ]
  },
  {
   "cell_type": "raw",
   "id": "90337129-575f-4e39-8fa3-0e48f9776cef",
   "metadata": {},
   "source": [
    "12. Concatenate two tuples."
   ]
  },
  {
   "cell_type": "code",
   "execution_count": 34,
   "id": "1ac84f66-a196-4b25-9ca3-1bb2acbc464c",
   "metadata": {},
   "outputs": [
    {
     "name": "stdout",
     "output_type": "stream",
     "text": [
      "(1, 3, 5, 7, 9, 2, 4, 6, 8, 10)\n"
     ]
    }
   ],
   "source": [
    "t1=(1, 3, 5, 7, 9)\n",
    "t2=(2, 4, 6, 8, 10)\n",
    "print(t1+t2)"
   ]
  },
  {
   "cell_type": "raw",
   "id": "392a192e-9b04-4be1-99f5-42fe2d1ea209",
   "metadata": {},
   "source": [
    "13. Repeat a tuple three times."
   ]
  },
  {
   "cell_type": "code",
   "execution_count": 35,
   "id": "5d106f2a-d444-42e0-99ef-0f07eddae9df",
   "metadata": {},
   "outputs": [
    {
     "name": "stdout",
     "output_type": "stream",
     "text": [
      "(1, 3, 5, 7, 9, 1, 3, 5, 7, 9, 1, 3, 5, 7, 9)\n"
     ]
    }
   ],
   "source": [
    "t1=(1, 3, 5, 7, 9)\n",
    "print(t1*3)"
   ]
  },
  {
   "cell_type": "raw",
   "id": "908f3ac4-97ec-4db0-8f25-16b8b77a90b5",
   "metadata": {},
   "source": [
    "14. Check if a tuple is empty."
   ]
  },
  {
   "cell_type": "code",
   "execution_count": 37,
   "id": "2aef28f3-aee6-419f-b8cd-dbc9dddf87b0",
   "metadata": {},
   "outputs": [
    {
     "name": "stdout",
     "output_type": "stream",
     "text": [
      "Tuple is empty\n"
     ]
    }
   ],
   "source": [
    "t=()\n",
    "if len(t)==0:\n",
    "    print(\"Tuple is empty\")\n",
    "else:\n",
    "    print(\"Tuple is not empty\")"
   ]
  },
  {
   "cell_type": "raw",
   "id": "ecb61a4a-bd72-4826-8533-b862200b196c",
   "metadata": {},
   "source": [
    "15. Create a nested tuple."
   ]
  },
  {
   "cell_type": "code",
   "execution_count": 40,
   "id": "94338452-7e20-439a-8923-6215f06cbb49",
   "metadata": {},
   "outputs": [
    {
     "name": "stdout",
     "output_type": "stream",
     "text": [
      "(1, 3, (6, 3, 7, 9, 2, 1, 8), 5, 7, 9)\n"
     ]
    }
   ],
   "source": [
    "t1=(1, 3,(6,3,7,9,2,1,8), 5, 7, 9)\n",
    "print(t1)"
   ]
  },
  {
   "cell_type": "raw",
   "id": "08bb2d57-a011-4466-a57a-c5dd9e940fdd",
   "metadata": {},
   "source": [
    "16. Access the first element of a nested tuple."
   ]
  },
  {
   "cell_type": "code",
   "execution_count": 42,
   "id": "9a0ef177-e55e-4ed0-b22d-b69823b1f88b",
   "metadata": {},
   "outputs": [
    {
     "name": "stdout",
     "output_type": "stream",
     "text": [
      "first element of a nested tuple. 6\n"
     ]
    }
   ],
   "source": [
    "t1=(1, 3,(6,3,7,9,2,1,8), 5, 7, 9)\n",
    "print(\"first element of a nested tuple.\",t1[2][0])"
   ]
  },
  {
   "cell_type": "raw",
   "id": "18fd898d-0528-4bf2-a799-9851f1994987",
   "metadata": {},
   "source": [
    "17. Create a tuple with a single element."
   ]
  },
  {
   "cell_type": "code",
   "execution_count": 43,
   "id": "a5158e32-7066-4b20-bdc9-ad179f4d0f67",
   "metadata": {},
   "outputs": [
    {
     "name": "stdout",
     "output_type": "stream",
     "text": [
      "1\n",
      "<class 'tuple'>\n"
     ]
    }
   ],
   "source": [
    "t1=(1)\n",
    "print(t1)\n",
    "print(type(t))"
   ]
  },
  {
   "cell_type": "raw",
   "id": "e5e97be1-7baf-403a-a4bb-35cbe7ec78f5",
   "metadata": {},
   "source": [
    "18. Compare two tuples."
   ]
  },
  {
   "cell_type": "code",
   "execution_count": 44,
   "id": "2687f0c0-0b7f-4296-aed9-05dc32494289",
   "metadata": {},
   "outputs": [
    {
     "name": "stdout",
     "output_type": "stream",
     "text": [
      "True\n",
      "False\n"
     ]
    }
   ],
   "source": [
    "t1 = (1, 2, 3)\n",
    "t2 = (1, 2, 3)\n",
    "t3 = (4, 5, 6)\n",
    "print(t1 == t2) \n",
    "print(t1 == t3)"
   ]
  },
  {
   "cell_type": "raw",
   "id": "891eeaca-a3c6-4b0f-b818-45270f152bc5",
   "metadata": {},
   "source": [
    "19. Delete a tuple."
   ]
  },
  {
   "cell_type": "code",
   "execution_count": 46,
   "id": "bbda0c98-8d00-45c9-a035-d9d226a4ea49",
   "metadata": {},
   "outputs": [
    {
     "ename": "NameError",
     "evalue": "name 't1' is not defined",
     "output_type": "error",
     "traceback": [
      "\u001b[0;31m---------------------------------------------------------------------------\u001b[0m",
      "\u001b[0;31mNameError\u001b[0m                                 Traceback (most recent call last)",
      "Cell \u001b[0;32mIn[46], line 3\u001b[0m\n\u001b[1;32m      1\u001b[0m t1 \u001b[38;5;241m=\u001b[39m (\u001b[38;5;241m1\u001b[39m, \u001b[38;5;241m2\u001b[39m, \u001b[38;5;241m3\u001b[39m)\n\u001b[1;32m      2\u001b[0m \u001b[38;5;28;01mdel\u001b[39;00m t1\n\u001b[0;32m----> 3\u001b[0m \u001b[38;5;28mprint\u001b[39m(\u001b[43mt1\u001b[49m)\n",
      "\u001b[0;31mNameError\u001b[0m: name 't1' is not defined"
     ]
    }
   ],
   "source": [
    "t1 = (1, 2, 3)\n",
    "del t1\n",
    "print(t1) # tuple is deleted now it will show Name error"
   ]
  },
  {
   "cell_type": "raw",
   "id": "c86d0393-1ee4-4f89-9a8c-db4be3e6d3d2",
   "metadata": {},
   "source": [
    "20. Slice a tuple."
   ]
  },
  {
   "cell_type": "code",
   "execution_count": 49,
   "id": "34769016-1bb0-430e-bf15-254885b8cb03",
   "metadata": {},
   "outputs": [
    {
     "name": "stdout",
     "output_type": "stream",
     "text": [
      "First slice of the tuple (1, 3, 5, 7, 9) Second slice of the tuple (2, 4, 6, 8, 10)\n"
     ]
    }
   ],
   "source": [
    "t=(1, 3, 5, 7, 9, 2, 4, 6, 8, 10)\n",
    "slice1=(t[:5])\n",
    "slice2=(t[5:])\n",
    "print(\"First slice of the tuple\",slice1,\"Second slice of the tuple\",slice2)"
   ]
  },
  {
   "cell_type": "raw",
   "id": "7b578697-5b8d-4a2c-9080-cd894fd02c30",
   "metadata": {},
   "source": [
    "21. Find the maximum value in a tuple."
   ]
  },
  {
   "cell_type": "code",
   "execution_count": 50,
   "id": "38dfafa9-8595-42d4-a0b8-6d4c3908f101",
   "metadata": {},
   "outputs": [
    {
     "name": "stdout",
     "output_type": "stream",
     "text": [
      "10\n"
     ]
    }
   ],
   "source": [
    "t=(1, 3, 5, 7, 9, 2, 4, 6, 8, 10)\n",
    "print(max(t))"
   ]
  },
  {
   "cell_type": "raw",
   "id": "ee0c9a46-cb84-413d-ab8b-852a6d537edb",
   "metadata": {},
   "source": [
    "22. Find the minimum value in a tuple."
   ]
  },
  {
   "cell_type": "code",
   "execution_count": 51,
   "id": "81250808-508c-47d6-95ba-1ea308ce11f2",
   "metadata": {},
   "outputs": [
    {
     "name": "stdout",
     "output_type": "stream",
     "text": [
      "1\n"
     ]
    }
   ],
   "source": [
    "t=(1, 3, 5, 7, 9, 2, 4, 6, 8, 10)\n",
    "print(min(t))"
   ]
  },
  {
   "cell_type": "raw",
   "id": "462e575d-9de4-4a10-a417-695e976eaefe",
   "metadata": {},
   "source": [
    "23. Convert a string to a tuple of characters."
   ]
  },
  {
   "cell_type": "code",
   "execution_count": 52,
   "id": "f6021d4a-eb40-4757-b85d-26104c02fedc",
   "metadata": {},
   "outputs": [
    {
     "name": "stdout",
     "output_type": "stream",
     "text": [
      "('A', 'l', 'i', 'r', 'a', 'z', 'a')\n"
     ]
    }
   ],
   "source": [
    "s=\"Aliraza\"\n",
    "t=tuple(s)\n",
    "print(t)"
   ]
  },
  {
   "cell_type": "raw",
   "id": "6d26bd31-56ad-4faa-89f9-2bc3f00c19f6",
   "metadata": {},
   "source": [
    "24. Convert a tuple of characters to a string."
   ]
  },
  {
   "cell_type": "code",
   "execution_count": 53,
   "id": "b7e6ea8e-77ac-41e3-a7ce-ebf0d8c3e593",
   "metadata": {},
   "outputs": [
    {
     "name": "stdout",
     "output_type": "stream",
     "text": [
      "Aliraza\n"
     ]
    }
   ],
   "source": [
    "t=('A', 'l', 'i', 'r', 'a', 'z', 'a')\n",
    "s=\"\".join(t)\n",
    "print(s)"
   ]
  },
  {
   "cell_type": "raw",
   "id": "c8de22fa-df6a-4264-b94a-0b2ce6e55126",
   "metadata": {},
   "source": [
    "25. Create a tuple from multiple data types."
   ]
  },
  {
   "cell_type": "code",
   "execution_count": 57,
   "id": "f91610f6-a514-48c5-869f-2dbe95a2cc77",
   "metadata": {},
   "outputs": [
    {
     "name": "stdout",
     "output_type": "stream",
     "text": [
      "('ali', 22, (2+4j), 5.7) <class 'str'> <class 'int'> <class 'complex'> <class 'float'>\n"
     ]
    }
   ],
   "source": [
    "t=('ali',22, 2+4j ,5.7)\n",
    "print((t),type(t[0]),type(t[1]),type(t[2]),type(t[3]))\n"
   ]
  },
  {
   "cell_type": "raw",
   "id": "4321ab18-c873-43fa-9807-af690281af1d",
   "metadata": {},
   "source": [
    "26. Check if two tuples are identical."
   ]
  },
  {
   "cell_type": "code",
   "execution_count": 58,
   "id": "2c8dcd56-61c7-4565-9816-f3e9cdace763",
   "metadata": {},
   "outputs": [
    {
     "name": "stdout",
     "output_type": "stream",
     "text": [
      "tuple1 and tuple2 are identical.\n",
      "tuple1 and tuple3 are not identical.\n"
     ]
    }
   ],
   "source": [
    "tuple1 = (1, 3, 5, 7, 9, 2, 4, 6, 8, 10)\n",
    "tuple2 = (1, 3, 5, 7, 9, 2, 4, 6, 8, 10)\n",
    "tuple3 = (10, 8, 6, 4, 2, 9, 7, 5, 3, 1)\n",
    "\n",
    "if tuple1 == tuple2:\n",
    "    print(\"tuple1 and tuple2 are identical.\")\n",
    "else:\n",
    "    print(\"tuple1 and tuple2 are not identical.\")\n",
    "if tuple1 == tuple3:\n",
    "    print(\"tuple1 and tuple3 are identical.\")\n",
    "else:\n",
    "    print(\"tuple1 and tuple3 are not identical.\")"
   ]
  },
  {
   "cell_type": "raw",
   "id": "1bb4da45-27b3-45e0-8447-1e5d8b435372",
   "metadata": {},
   "source": [
    "27. Sort the elements of a tuple."
   ]
  },
  {
   "cell_type": "code",
   "execution_count": 59,
   "id": "00e66be7-2210-4285-925a-deb0a4e07889",
   "metadata": {},
   "outputs": [
    {
     "name": "stdout",
     "output_type": "stream",
     "text": [
      "[1, 2, 3, 4, 5, 6, 7, 8, 9, 10]\n"
     ]
    }
   ],
   "source": [
    "t=(1, 3, 5, 7, 9, 2, 4, 6, 8, 10)\n",
    "print(sorted(t))"
   ]
  },
  {
   "cell_type": "raw",
   "id": "76ebd374-7c44-4557-8515-4323253f0579",
   "metadata": {},
   "source": [
    "28. Convert a tuple of integers to a tuple of strings."
   ]
  },
  {
   "cell_type": "code",
   "execution_count": 66,
   "id": "1380bcd1-58b2-4b8b-afa4-5fe7e2894d5d",
   "metadata": {},
   "outputs": [
    {
     "name": "stdout",
     "output_type": "stream",
     "text": [
      "('1', '3', '5', '7', '9', '2', '4', '6', '8', '10')\n"
     ]
    }
   ],
   "source": [
    "t=(1, 3, 5, 7, 9, 2, 4, 6, 8, 10)\n",
    "string_t=tuple(str(x) for x in t)\n",
    "print(string_t)\n"
   ]
  },
  {
   "cell_type": "raw",
   "id": "5d7f02a8-914a-479f-9994-67d074bb0352",
   "metadata": {},
   "source": [
    "29. Convert a tuple of strings to a tuple of integers."
   ]
  },
  {
   "cell_type": "code",
   "execution_count": 67,
   "id": "67e0ef98-84d5-49a1-94fa-092dc57d9531",
   "metadata": {},
   "outputs": [
    {
     "name": "stdout",
     "output_type": "stream",
     "text": [
      "(1, 3, 5, 7, 9, 2, 4, 6, 8, 10)\n"
     ]
    }
   ],
   "source": [
    "t=('1', '3', '5', '7', '9', '2', '4', '6', '8', '10')\n",
    "integer_t=tuple(int(x) for x in t)\n",
    "print(integer_t)"
   ]
  },
  {
   "cell_type": "raw",
   "id": "96c32076-f2ff-4f39-91e7-ff5a674f5ff4",
   "metadata": {},
   "source": [
    "30. Merge two tuples."
   ]
  },
  {
   "cell_type": "code",
   "execution_count": 68,
   "id": "27844aa6-30f5-44ba-a1cd-1f14330875ee",
   "metadata": {},
   "outputs": [
    {
     "name": "stdout",
     "output_type": "stream",
     "text": [
      "(1, 3, 5, 7, 9, 2, 4, 6, 8, 10)\n"
     ]
    }
   ],
   "source": [
    "t1=(1, 3, 5, 7, 9)\n",
    "t2=(2, 4, 6, 8, 10)\n",
    "print(t1+t2)"
   ]
  },
  {
   "cell_type": "raw",
   "id": "9623c6dd-12c7-4430-b6dc-83a679c9972e",
   "metadata": {},
   "source": [
    "31. Flatten a nested tuple."
   ]
  },
  {
   "cell_type": "code",
   "execution_count": 81,
   "id": "4fc6386b-2389-4655-937b-0dec2369f922",
   "metadata": {},
   "outputs": [
    {
     "name": "stdout",
     "output_type": "stream",
     "text": [
      "[1, 2, 3, 4, 5, 6, 7, 8, 9, 10]\n"
     ]
    }
   ],
   "source": [
    "nested_tuple = (1, (2, 3), (4, 5, 6), 7, (8, 9, 10))\n",
    "flatten_tuple=[]\n",
    "for i in nested_tuple:\n",
    "    if isinstance(i,tuple):\n",
    "        flatten_tuple.extend(i)\n",
    "    else:\n",
    "        flatten_tuple.append(i) \n",
    "print(flatten_tuple)"
   ]
  },
  {
   "cell_type": "raw",
   "id": "81629448-d145-4361-9648-3dc25bd28f7d",
   "metadata": {},
   "source": [
    "32. Create a tuple of the first 5 prime numbers."
   ]
  },
  {
   "cell_type": "code",
   "execution_count": 1,
   "id": "e014fcc2-fe1d-4f69-8697-60f73172b5fc",
   "metadata": {},
   "outputs": [
    {
     "name": "stdout",
     "output_type": "stream",
     "text": [
      "list of prime numbers up to 50 (7, 11, 13, 17, 19, 23, 29, 31, 37, 41, 43, 47, 49)\n"
     ]
    }
   ],
   "source": [
    "l1=[]\n",
    "for char in range(2,51):\n",
    "    if char%char==0 and char%2!=0 and char%3!=0 and char%5!=0:\n",
    "        l1.append(char)\n",
    "t=tuple(l1)\n",
    "print(\"list of prime numbers up to 50\",t)"
   ]
  },
  {
   "cell_type": "raw",
   "id": "4ae2dd21-d90b-467d-a7b0-5243dadff299",
   "metadata": {},
   "source": [
    "33. Check if a tuple is a palindrome."
   ]
  },
  {
   "cell_type": "code",
   "execution_count": 2,
   "id": "011912ba-89f3-495e-9aa5-31acc643e1dd",
   "metadata": {},
   "outputs": [
    {
     "name": "stdout",
     "output_type": "stream",
     "text": [
      "Tuple1 is a palindrome\n",
      "Tuple2 is not a palindrome\n"
     ]
    }
   ],
   "source": [
    "def is_palindrome_tuple(t):\n",
    "    \"\"\" Function to check if a tuple is a palindrome \"\"\"\n",
    "    return t == t[::-1]\n",
    "\n",
    "def main():\n",
    "    # Example tuples\n",
    "    tuple1 = (1, 2, 3, 2, 1)\n",
    "    tuple2 = (1, 2, 3, 4, 5)\n",
    "    \n",
    "    # Check if tuple1 is a palindrome\n",
    "    if is_palindrome_tuple(tuple1):\n",
    "        print(\"Tuple1 is a palindrome\")\n",
    "    else:\n",
    "        print(\"Tuple1 is not a palindrome\")\n",
    "    \n",
    "    # Check if tuple2 is a palindrome\n",
    "    if is_palindrome_tuple(tuple2):\n",
    "        print(\"Tuple2 is a palindrome\")\n",
    "    else:\n",
    "        print(\"Tuple2 is not a palindrome\")\n",
    "\n",
    "if __name__ == \"__main__\":\n",
    "    main()\n"
   ]
  },
  {
   "cell_type": "raw",
   "id": "7aefea4f-867c-4752-b8d1-c97682aaa3b0",
   "metadata": {},
   "source": [
    "34. Create a tuple of squares of numbers from 1 to 5."
   ]
  },
  {
   "cell_type": "code",
   "execution_count": 6,
   "id": "967f80be-fc51-43f0-b28f-bf57d800f7c8",
   "metadata": {},
   "outputs": [
    {
     "name": "stdout",
     "output_type": "stream",
     "text": [
      "squares of numbers from 1 to 5  (1, 4, 9, 16, 25)\n"
     ]
    }
   ],
   "source": [
    "t=tuple(x**2 for x in range(1,6))\n",
    "print(\"squares of numbers from 1 to 5 \",t)\n"
   ]
  },
  {
   "cell_type": "raw",
   "id": "56a4648f-33e8-44d7-b938-2e2d956ea2e9",
   "metadata": {},
   "source": [
    "35. Filter out all even numbers from a tuple."
   ]
  },
  {
   "cell_type": "code",
   "execution_count": 9,
   "id": "e24a5c3a-e135-4c74-966b-ccff5d2b90ee",
   "metadata": {},
   "outputs": [
    {
     "name": "stdout",
     "output_type": "stream",
     "text": [
      "(2, 4, 6, 8, 10)\n"
     ]
    }
   ],
   "source": [
    "t=(1,2,3,4,5,6,7,8,9,10)\n",
    "even_num=[]\n",
    "for x in t:\n",
    "    if x%2==0:\n",
    "        even_num.append(x)\n",
    "even_num=tuple(even_num)\n",
    "print(even_num)"
   ]
  },
  {
   "cell_type": "raw",
   "id": "c4b5cfef-1bf5-4a53-80f5-9922a71cdb75",
   "metadata": {},
   "source": [
    "36. Multiply all elements in a tuple by 2."
   ]
  },
  {
   "cell_type": "code",
   "execution_count": 10,
   "id": "bf4c7f81-3b3a-461e-9174-84a358812468",
   "metadata": {},
   "outputs": [
    {
     "name": "stdout",
     "output_type": "stream",
     "text": [
      "(2, 4, 6, 8, 10, 12, 14, 16, 18, 20)\n"
     ]
    }
   ],
   "source": [
    "t=(1,2,3,4,5,6,7,8,9,10)\n",
    "result=tuple(x*2 for x in t)\n",
    "print(result)"
   ]
  },
  {
   "cell_type": "raw",
   "id": "3b72164e-c3ee-4f02-81d8-27737ad04331",
   "metadata": {},
   "source": [
    "37. Create a tuple of random numbers."
   ]
  },
  {
   "cell_type": "code",
   "execution_count": 11,
   "id": "9088b577-29dc-4fa4-8294-df02025fcfe7",
   "metadata": {},
   "outputs": [
    {
     "name": "stdout",
     "output_type": "stream",
     "text": [
      "(44, 37, 21, 36, 18)\n"
     ]
    }
   ],
   "source": [
    "import random\n",
    "random_num=tuple(random.randint(1,50) for x in range(5))\n",
    "print(random_num)"
   ]
  },
  {
   "cell_type": "raw",
   "id": "ddab7e2f-794f-4410-87de-4148eb682f91",
   "metadata": {},
   "source": [
    "38. Check if a tuple is sorted."
   ]
  },
  {
   "cell_type": "code",
   "execution_count": 13,
   "id": "4ffccd02-643d-45ca-8e73-8e3ff20873c8",
   "metadata": {},
   "outputs": [
    {
     "name": "stdout",
     "output_type": "stream",
     "text": [
      "not sorted\n"
     ]
    }
   ],
   "source": [
    "t=(44, 37, 21, 36, 18)\n",
    "if sorted(t)==True:\n",
    "    print(\"sorted\")\n",
    "else:\n",
    "    print(\"not sorted\")"
   ]
  },
  {
   "cell_type": "raw",
   "id": "1e3ead78-f061-492a-a9ed-ad94f4dc4b72",
   "metadata": {},
   "source": [
    "39. Rotate a tuple to the left by `n` positions."
   ]
  },
  {
   "cell_type": "code",
   "execution_count": 15,
   "id": "691313a5-79fc-416f-8820-d6b82a15321a",
   "metadata": {},
   "outputs": [
    {
     "name": "stdout",
     "output_type": "stream",
     "text": [
      "tuple to the left by 3 positions  (1, 8, 5, 4, 33, 45, 67, 9, 1, 2)\n"
     ]
    }
   ],
   "source": [
    "t=(1, 2, 1, 8, 5, 4, 33, 45, 67, 9)\n",
    "n=2 # rotate to the left by 3 positions\n",
    "n = n % len(t)\n",
    "t2=t[n:] + t[:n]\n",
    "print(\"tuple to the left by 3 positions \",t2)"
   ]
  },
  {
   "cell_type": "raw",
   "id": "02f121d8-9a0a-4c2f-b515-9a9d8f138225",
   "metadata": {},
   "source": [
    "40. Rotate a tuple to the right by `n` positions."
   ]
  },
  {
   "cell_type": "code",
   "execution_count": 16,
   "id": "9fb0bfb5-4b93-49a0-a778-7a8b9e8ab6ab",
   "metadata": {},
   "outputs": [
    {
     "name": "stdout",
     "output_type": "stream",
     "text": [
      "tuple to the right by 3 positions  (67, 9, 1, 2, 1, 8, 5, 4, 33, 45)\n"
     ]
    }
   ],
   "source": [
    "t=(1, 2, 1, 8, 5, 4, 33, 45, 67, 9)\n",
    "n=2 # rotate to the right by 2 positions\n",
    "n = n % len(t)\n",
    "t2= t[-n:]+t[:-n] \n",
    "print(\"tuple to the right by 3 positions \",t2)"
   ]
  },
  {
   "cell_type": "raw",
   "id": "0152fe46-289e-4e11-abf0-2d5e62081124",
   "metadata": {},
   "source": [
    "41. Create a tuple of the first 5 Fibonacci numbers."
   ]
  },
  {
   "cell_type": "code",
   "execution_count": 6,
   "id": "03242d1d-c62f-43e6-a6d8-c2d04c0d4acc",
   "metadata": {},
   "outputs": [
    {
     "name": "stdout",
     "output_type": "stream",
     "text": [
      "Tuple of the first 5 Fibonacci numbers: (0, 1, 1, 2, 3)\n"
     ]
    }
   ],
   "source": [
    "def generate_fibonacci(n):\n",
    "    \"\"\" Function to generate the first n Fibonacci numbers \"\"\"\n",
    "    fibonacci = [0, 1]\n",
    "    while len(fibonacci) < n:\n",
    "        fibonacci.append(fibonacci[-1] + fibonacci[-2])\n",
    "    return tuple(fibonacci[:n])\n",
    "n=5 \n",
    "fibonacci_tuple = generate_fibonacci(n)\n",
    "  \n",
    "    # Print the tuple\n",
    "print(\"Tuple of the first 5 Fibonacci numbers:\", fibonacci_tuple)"
   ]
  },
  {
   "cell_type": "raw",
   "id": "8e428807-1cdc-443a-b619-289333496a4a",
   "metadata": {},
   "source": [
    "42. Create a tuple from user input."
   ]
  },
  {
   "cell_type": "code",
   "execution_count": 7,
   "id": "33cbb7ca-8484-4517-bd9b-dd24bac9d31f",
   "metadata": {},
   "outputs": [
    {
     "name": "stdin",
     "output_type": "stream",
     "text": [
      "Enter numbers with space 1 2 2 3 4 5 6 7 8\n"
     ]
    },
    {
     "name": "stdout",
     "output_type": "stream",
     "text": [
      "('1', ' ', '2', ' ', '2', ' ', '3', ' ', '4', ' ', '5', ' ', '6', ' ', '7', ' ', '8')\n"
     ]
    }
   ],
   "source": [
    "user_input=input(\"Enter numbers with space\")\n",
    "t=tuple(user_input)\n",
    "print(t)"
   ]
  },
  {
   "cell_type": "raw",
   "id": "4b5a2095-914a-4963-8bb6-a7b5d3cb1c08",
   "metadata": {},
   "source": [
    "43. Swap two elements in a tuple."
   ]
  },
  {
   "cell_type": "code",
   "execution_count": 9,
   "id": "4f77b033-aa1f-4561-b001-29b2fce4d801",
   "metadata": {},
   "outputs": [
    {
     "name": "stdout",
     "output_type": "stream",
     "text": [
      "(1, 3, 2)\n"
     ]
    }
   ],
   "source": [
    "t=(1,2,3)\n",
    "l=list(t)\n",
    "temp=l[1]\n",
    "l[1]=l[2]\n",
    "l[2]=temp\n",
    "t=tuple(l)\n",
    "print(t)"
   ]
  },
  {
   "cell_type": "raw",
   "id": "2e51ee29-237c-4f70-b41e-de0ffdc0d481",
   "metadata": {},
   "source": [
    "44. Reverse the elements of a tuple."
   ]
  },
  {
   "cell_type": "code",
   "execution_count": 10,
   "id": "beb7e621-0f2f-42ae-99de-070f2de03611",
   "metadata": {},
   "outputs": [
    {
     "name": "stdout",
     "output_type": "stream",
     "text": [
      "(2, 1, 9, 67, 45, 33, 4, 5, 8, 1)\n"
     ]
    }
   ],
   "source": [
    "t=(1, 8, 5, 4, 33, 45, 67, 9, 1, 2)\n",
    "print(t[::-1])"
   ]
  },
  {
   "cell_type": "raw",
   "id": "471ef5b6-a843-434f-bbbb-7826b1196d8c",
   "metadata": {},
   "source": [
    "45. Create a tuple of the first `n` powers of 2."
   ]
  },
  {
   "cell_type": "code",
   "execution_count": 11,
   "id": "937e7af2-30b1-4465-adcf-83aba71d2120",
   "metadata": {},
   "outputs": [
    {
     "name": "stdout",
     "output_type": "stream",
     "text": [
      "(1, 2, 4, 8, 16)\n"
     ]
    }
   ],
   "source": [
    "powers_of_2_tuple = tuple(2 ** i for i in range(5))\n",
    "print(powers_of_2_tuple)"
   ]
  },
  {
   "cell_type": "raw",
   "id": "d5f752cc-cf98-4490-804b-c6a59b80961f",
   "metadata": {},
   "source": [
    "46. Find the longest string in a tuple of strings."
   ]
  },
  {
   "cell_type": "code",
   "execution_count": 12,
   "id": "ea4284dc-e541-47bc-b8d4-92427f59b58e",
   "metadata": {},
   "outputs": [
    {
     "name": "stdout",
     "output_type": "stream",
     "text": [
      "blueberry\n"
     ]
    }
   ],
   "source": [
    "t = (\"apple\", \"banana\", \"cherry\", \"blueberry\", \"kiwi\")\n",
    "print(max(t, key=len))"
   ]
  },
  {
   "cell_type": "raw",
   "id": "44e5720a-354f-4722-a9dc-7fe906cc6962",
   "metadata": {},
   "source": [
    "47. Find the shortest string in a tuple of strings."
   ]
  },
  {
   "cell_type": "code",
   "execution_count": 13,
   "id": "56afbd50-5eec-4ad5-b338-e54c60f75f79",
   "metadata": {},
   "outputs": [
    {
     "name": "stdout",
     "output_type": "stream",
     "text": [
      "kiwi\n"
     ]
    }
   ],
   "source": [
    "t = (\"apple\", \"banana\", \"cherry\", \"blueberry\", \"kiwi\")\n",
    "print(min(t, key=len))"
   ]
  },
  {
   "cell_type": "raw",
   "id": "f731a1ca-ed92-4b3b-944d-4f89b7340904",
   "metadata": {},
   "source": [
    "48. Create a tuple of the first `n` triangular numbers."
   ]
  },
  {
   "cell_type": "code",
   "execution_count": 16,
   "id": "2fbe963b-8538-495f-b30e-b037ecad7d63",
   "metadata": {},
   "outputs": [
    {
     "name": "stdout",
     "output_type": "stream",
     "text": [
      "(1, 3, 6, 10, 15, 21, 28, 36, 45, 55)\n"
     ]
    }
   ],
   "source": [
    "num=[(i * (i + 1)) // 2 for i in range(1,11)]\n",
    "t=tuple(num)\n",
    "print(t)"
   ]
  },
  {
   "cell_type": "raw",
   "id": "844612be-14fe-4cb1-8ce5-ac6f3edcf0c4",
   "metadata": {},
   "source": [
    "49. Check if a tuple contains another tuple as a subsequence."
   ]
  },
  {
   "cell_type": "code",
   "execution_count": 18,
   "id": "1a51070f-e6ae-429b-b1d8-fe6ee341dfc8",
   "metadata": {},
   "outputs": [
    {
     "name": "stdout",
     "output_type": "stream",
     "text": [
      "True\n"
     ]
    }
   ],
   "source": [
    "lst = (1, 2, 3, 4, 5)\n",
    "sub_lst = (2, 4)\n",
    "it = iter(lst)\n",
    "l1=(all(item in it for item in sub_lst))\n",
    "print(l1)"
   ]
  },
  {
   "cell_type": "raw",
   "id": "ff339928-dc34-442d-9d46-4f41d05561da",
   "metadata": {},
   "source": [
    "50. Create a tuple of alternating 1s and 0s of length `n`."
   ]
  },
  {
   "cell_type": "code",
   "execution_count": null,
   "id": "2571af36-8d28-4bd0-b175-c86124839c24",
   "metadata": {},
   "outputs": [],
   "source": [
    " n = int(input(\"Enter the length of the tuple: \"))\n",
    "alternating_list = [1 if i % 2 == 0 else 0 for i in range(n)]\n",
    "alternating_tuple =tuple(alternating_list)\n",
    "print(\"Tuple of alternating 1s and 0s:\", alternating_tuple)"
   ]
  },
  {
   "cell_type": "code",
   "execution_count": null,
   "id": "1e2ca9c8-e1ac-462d-ae61-d60bf5e98cc2",
   "metadata": {},
   "outputs": [],
   "source": []
  },
  {
   "cell_type": "raw",
   "id": "bff6f3ae-5ad8-4e96-9a10-d5f73f19630a",
   "metadata": {},
   "source": [
    "Set Based Practice Problem :"
   ]
  },
  {
   "cell_type": "raw",
   "id": "c90668be-6412-435b-a860-1ee11c21300b",
   "metadata": {},
   "source": [
    "1. Create a set with integers from 1 to 5."
   ]
  },
  {
   "cell_type": "code",
   "execution_count": 2,
   "id": "31504ab3-6c07-4cfd-8b5c-3f7aa88352f3",
   "metadata": {},
   "outputs": [
    {
     "name": "stdout",
     "output_type": "stream",
     "text": [
      "{1, 2, 3, 4, 5}\n"
     ]
    }
   ],
   "source": [
    "s={1,2,3,4,5}\n",
    "print(s)"
   ]
  },
  {
   "cell_type": "raw",
   "id": "8596f8d8-b89d-455b-bd69-c14a8146e6a2",
   "metadata": {},
   "source": [
    "2. Add an element to a set."
   ]
  },
  {
   "cell_type": "code",
   "execution_count": 3,
   "id": "e15c8a72-7755-4799-a2c0-9fe22586afa6",
   "metadata": {},
   "outputs": [
    {
     "name": "stdout",
     "output_type": "stream",
     "text": [
      "{1, 2, 3, 4, 5, 6}\n"
     ]
    }
   ],
   "source": [
    "s={1,2,3,4,5}\n",
    "s.add(6)\n",
    "print(s)"
   ]
  },
  {
   "cell_type": "raw",
   "id": "f7aced9c-b2e6-45a7-a87f-51a21325d36d",
   "metadata": {},
   "source": [
    "3. Remove an element from a set."
   ]
  },
  {
   "cell_type": "code",
   "execution_count": 4,
   "id": "ed7f228a-b3e5-4079-8656-14670a268470",
   "metadata": {},
   "outputs": [
    {
     "name": "stdout",
     "output_type": "stream",
     "text": [
      "{1, 2, 3, 4, 5}\n"
     ]
    }
   ],
   "source": [
    "s={1, 2, 3, 4, 5, 6}\n",
    "s.remove(6)\n",
    "print(s)"
   ]
  },
  {
   "cell_type": "raw",
   "id": "aa507647-2373-4cab-b048-d715671e516f",
   "metadata": {},
   "source": [
    "4. Check if an element exists in a set."
   ]
  },
  {
   "cell_type": "code",
   "execution_count": 5,
   "id": "bdba5457-1dbd-416a-95ff-6845e1226523",
   "metadata": {},
   "outputs": [
    {
     "name": "stdout",
     "output_type": "stream",
     "text": [
      "element exists in a set\n"
     ]
    }
   ],
   "source": [
    "s={1, 2, 3, 4, 5, 6}\n",
    "element_to_check=4\n",
    "if element_to_check in s:\n",
    "    print(\"element exists in a set\")\n",
    "else:\n",
    "    print(\"element not exists in a set\")"
   ]
  },
  {
   "cell_type": "raw",
   "id": "43e5f0f4-4636-4e2a-aa40-6fee7cea6395",
   "metadata": {},
   "source": [
    "5. Find the length of a set without using the `len()` function."
   ]
  },
  {
   "cell_type": "code",
   "execution_count": 6,
   "id": "70219259-c2db-4a34-a2be-bb2e7065c59b",
   "metadata": {},
   "outputs": [
    {
     "name": "stdout",
     "output_type": "stream",
     "text": [
      "length of a set is  6\n"
     ]
    }
   ],
   "source": [
    "s={1, 2, 3, 4, 5, 6}\n",
    "count=0\n",
    "for char in s:\n",
    "    count= count+1\n",
    "print(\"length of a set is \",count)"
   ]
  },
  {
   "cell_type": "raw",
   "id": "a6a18eb7-bb42-4663-b611-d7152698c092",
   "metadata": {},
   "source": [
    "6. Clear all elements from a set."
   ]
  },
  {
   "cell_type": "code",
   "execution_count": 7,
   "id": "ac78ed10-3078-4edb-bdba-f81a83a32624",
   "metadata": {},
   "outputs": [
    {
     "name": "stdout",
     "output_type": "stream",
     "text": [
      "set()\n"
     ]
    }
   ],
   "source": [
    "s={1, 2, 3, 4, 5, 6}\n",
    "s.clear()\n",
    "print(s)"
   ]
  },
  {
   "cell_type": "raw",
   "id": "7ca20dd4-c0bf-4860-87cc-c78c252cca07",
   "metadata": {},
   "source": [
    "7. Create a set of even numbers from 1 to 10."
   ]
  },
  {
   "cell_type": "code",
   "execution_count": 12,
   "id": "856d3940-d62f-4941-a401-2563fa171ea3",
   "metadata": {},
   "outputs": [
    {
     "name": "stdout",
     "output_type": "stream",
     "text": [
      "{2, 4, 6, 8, 10}\n"
     ]
    }
   ],
   "source": [
    "s=set({})\n",
    "for char in range(1,11):\n",
    "    if char%2==0:\n",
    "        s.add(char)\n",
    "print(s)"
   ]
  },
  {
   "cell_type": "raw",
   "id": "3e77dc09-a373-4db1-93f1-ba51255e5653",
   "metadata": {},
   "source": [
    "8. Create a set of odd numbers from 1 to 10."
   ]
  },
  {
   "cell_type": "code",
   "execution_count": 11,
   "id": "10709358-fb47-46cd-bbcb-526bc6046faf",
   "metadata": {},
   "outputs": [
    {
     "name": "stdout",
     "output_type": "stream",
     "text": [
      "{1, 3, 5, 7, 9}\n"
     ]
    }
   ],
   "source": [
    "s=set({})\n",
    "for char in range(1,10):\n",
    "    if char%2!=0:\n",
    "        s.add(char)\n",
    "print(s)"
   ]
  },
  {
   "cell_type": "raw",
   "id": "ea98fa38-e510-4f39-a9d5-da134240e5e0",
   "metadata": {},
   "source": [
    "9. Find the union of two sets."
   ]
  },
  {
   "cell_type": "code",
   "execution_count": 13,
   "id": "338d578b-932d-4f3a-825b-000f171b41e6",
   "metadata": {},
   "outputs": [
    {
     "data": {
      "text/plain": [
       "{1, 2, 3, 4, 5, 6, 7, 8, 9, 10}"
      ]
     },
     "execution_count": 13,
     "metadata": {},
     "output_type": "execute_result"
    }
   ],
   "source": [
    "a={2, 4, 6, 8, 10}\n",
    "b={1, 3, 5, 7, 9}\n",
    "s=set({})\n",
    "s.union(a,b)\n"
   ]
  },
  {
   "cell_type": "raw",
   "id": "afef3d1b-c4a2-4a6d-9b38-12e351427906",
   "metadata": {},
   "source": [
    "10. Find the intersection of two sets."
   ]
  },
  {
   "cell_type": "code",
   "execution_count": 19,
   "id": "0945e569-24f6-4217-bc4d-fbf6aa296277",
   "metadata": {},
   "outputs": [
    {
     "data": {
      "text/plain": [
       "{7, 10}"
      ]
     },
     "execution_count": 19,
     "metadata": {},
     "output_type": "execute_result"
    }
   ],
   "source": [
    "a={2, 7, 6, 8, 10}\n",
    "b={1, 3, 10, 7, 9}\n",
    "a.intersection(b)"
   ]
  },
  {
   "cell_type": "raw",
   "id": "8821c851-c0d5-4413-96db-b098b80ca1bc",
   "metadata": {},
   "source": [
    "11. Find the difference between two sets."
   ]
  },
  {
   "cell_type": "code",
   "execution_count": 20,
   "id": "09a72e91-8f75-4134-843b-7aae96293c87",
   "metadata": {},
   "outputs": [
    {
     "data": {
      "text/plain": [
       "{2, 6, 8}"
      ]
     },
     "execution_count": 20,
     "metadata": {},
     "output_type": "execute_result"
    }
   ],
   "source": [
    "a={2, 7, 6, 8, 10}\n",
    "b={1, 3, 10, 7, 9}\n",
    "a.difference(b)"
   ]
  },
  {
   "cell_type": "raw",
   "id": "af5cd066-d646-427d-b10e-4e1845a95db4",
   "metadata": {},
   "source": [
    "12. Check if a set is a subset of another set."
   ]
  },
  {
   "cell_type": "code",
   "execution_count": 24,
   "id": "a01c7c3c-899a-45f8-a3af-4365f6bc36fd",
   "metadata": {},
   "outputs": [
    {
     "name": "stdout",
     "output_type": "stream",
     "text": [
      "True\n"
     ]
    }
   ],
   "source": [
    "set_a = {2, 4, 6}\n",
    "set_b = {2, 4, 6, 8, 10}\n",
    "is_subset_method = set_a.issubset(set_b)\n",
    "print(is_subset_method)"
   ]
  },
  {
   "cell_type": "raw",
   "id": "0f155555-46eb-44aa-a9e0-034cbf823b17",
   "metadata": {},
   "source": [
    "13. Check if a set is a superset of another set."
   ]
  },
  {
   "cell_type": "code",
   "execution_count": 25,
   "id": "3c19c074-bf3b-4fa5-9fb9-cbbc68ae849d",
   "metadata": {},
   "outputs": [
    {
     "name": "stdout",
     "output_type": "stream",
     "text": [
      "False\n"
     ]
    }
   ],
   "source": [
    "set_a = {2, 4, 6}\n",
    "set_b = {2, 4, 6, 8, 10}\n",
    "is_subset_method = set_a.issuperset(set_b)\n",
    "print(is_subset_method)"
   ]
  },
  {
   "cell_type": "raw",
   "id": "e8cd01fc-ab9b-4575-9fce-05bb50cdc369",
   "metadata": {},
   "source": [
    "14. Create a set from a list."
   ]
  },
  {
   "cell_type": "code",
   "execution_count": 26,
   "id": "77ffcc76-dccf-42f7-8fb7-e9f33f418ca3",
   "metadata": {},
   "outputs": [
    {
     "name": "stdout",
     "output_type": "stream",
     "text": [
      "{1, 2, 3, 4, 5, 6}\n"
     ]
    }
   ],
   "source": [
    "l=[1,2,3,4,5,6]\n",
    "s=set(l)\n",
    "print(s)"
   ]
  },
  {
   "cell_type": "raw",
   "id": "248516b1-c929-4b36-81ce-225beb16aa66",
   "metadata": {},
   "source": [
    "15. Convert a set to a list."
   ]
  },
  {
   "cell_type": "code",
   "execution_count": 28,
   "id": "8528ed82-221f-43dc-828f-cd40b86234ec",
   "metadata": {},
   "outputs": [
    {
     "name": "stdout",
     "output_type": "stream",
     "text": [
      "[1, 2, 3, 4, 5, 6]\n"
     ]
    }
   ],
   "source": [
    "s={1, 2, 3, 4, 5, 6}\n",
    "l=list(s)\n",
    "print(l)"
   ]
  },
  {
   "cell_type": "raw",
   "id": "e8ea0a02-7b27-418d-85ba-dd3cc018e572",
   "metadata": {},
   "source": [
    "16. Remove a random element from a set."
   ]
  },
  {
   "cell_type": "code",
   "execution_count": 29,
   "id": "1b0e676f-221c-4b27-b9a9-35ad21e4c8e2",
   "metadata": {},
   "outputs": [
    {
     "name": "stdout",
     "output_type": "stream",
     "text": [
      "{1, 3, 4, 5, 6}\n"
     ]
    }
   ],
   "source": [
    "s={1, 2, 3, 4, 5, 6}\n",
    "s.remove(2)\n",
    "print(s)"
   ]
  },
  {
   "cell_type": "raw",
   "id": "788ca548-8449-4e06-a164-96a94ae04992",
   "metadata": {},
   "source": [
    "17. Pop an element from a set."
   ]
  },
  {
   "cell_type": "code",
   "execution_count": 30,
   "id": "c7501346-37ab-4aac-af39-11c5957bd5ee",
   "metadata": {},
   "outputs": [
    {
     "name": "stdout",
     "output_type": "stream",
     "text": [
      "{2, 3, 4, 5, 6}\n"
     ]
    }
   ],
   "source": [
    "s={1, 2, 3, 4, 5, 6}\n",
    "s.pop()\n",
    "print(s)"
   ]
  },
  {
   "cell_type": "raw",
   "id": "398042da-7ab9-4887-9567-268f48df4d98",
   "metadata": {},
   "source": [
    "18. Check if two sets have no elements in common."
   ]
  },
  {
   "cell_type": "code",
   "execution_count": 34,
   "id": "3fc1a3e3-0cf1-4faa-8882-70b2204b11d8",
   "metadata": {},
   "outputs": [
    {
     "data": {
      "text/plain": [
       "False"
      ]
     },
     "execution_count": 34,
     "metadata": {},
     "output_type": "execute_result"
    }
   ],
   "source": [
    "set_a = {2, 4, 6}\n",
    "set_b = {2, 4, 6, 8, 10}\n",
    "set_a.isdisjoint(set_b)"
   ]
  },
  {
   "cell_type": "raw",
   "id": "c1a4d81f-334e-4c0f-817c-0f932373253b",
   "metadata": {},
   "source": [
    "19. Find the symmetric difference between two sets."
   ]
  },
  {
   "cell_type": "code",
   "execution_count": 35,
   "id": "f5c9e46a-dd5b-4b7c-a6b3-2c5cc7bfda7b",
   "metadata": {},
   "outputs": [
    {
     "data": {
      "text/plain": [
       "{8, 10}"
      ]
     },
     "execution_count": 35,
     "metadata": {},
     "output_type": "execute_result"
    }
   ],
   "source": [
    "a = {2, 4, 6}\n",
    "b = {2, 4, 6, 8, 10}\n",
    "a.symmetric_difference(b)"
   ]
  },
  {
   "cell_type": "raw",
   "id": "8d338eb9-cbb1-4454-a71e-d6296e06106f",
   "metadata": {},
   "source": [
    "20. Update a set with elements from another set."
   ]
  },
  {
   "cell_type": "code",
   "execution_count": 37,
   "id": "022ffc57-94ae-45d6-92f1-248997d8faaf",
   "metadata": {},
   "outputs": [
    {
     "name": "stdout",
     "output_type": "stream",
     "text": [
      "{2, 4, 6, 8, 10}\n"
     ]
    }
   ],
   "source": [
    "a = {2, 4, 6}\n",
    "b = {2, 4, 6, 8, 10}\n",
    "a.update(b)\n",
    "print(a)"
   ]
  },
  {
   "cell_type": "raw",
   "id": "f765c0ba-6807-44f3-bf4d-7a720b400f06",
   "metadata": {},
   "source": [
    "21. Create a set of the first 5 prime numbers."
   ]
  },
  {
   "cell_type": "code",
   "execution_count": 38,
   "id": "dd5f8967-f6af-4db5-b610-8472010c9800",
   "metadata": {},
   "outputs": [
    {
     "name": "stdout",
     "output_type": "stream",
     "text": [
      "Set of the first 5 prime numbers: {2, 3, 5, 7, 11}\n"
     ]
    }
   ],
   "source": [
    "prime_numbers = [2, 3, 5, 7, 11]\n",
    "prime_set = set(prime_numbers)\n",
    "print(\"Set of the first 5 prime numbers:\", prime_set)"
   ]
  },
  {
   "cell_type": "raw",
   "id": "130848ab-3f7c-488c-845c-4cc7f116be7b",
   "metadata": {},
   "source": [
    "22. Check if two sets are identical."
   ]
  },
  {
   "cell_type": "code",
   "execution_count": 41,
   "id": "ef369113-7250-428e-ab0d-8d5e357e21cb",
   "metadata": {},
   "outputs": [
    {
     "name": "stdout",
     "output_type": "stream",
     "text": [
      "sets are identical\n"
     ]
    }
   ],
   "source": [
    "a = {2, 4, 6,8,10}\n",
    "b = {2, 4, 6, 8, 10}\n",
    "if a==b:\n",
    "    print(\"sets are identical\")\n",
    "else:\n",
    "    print(\"sets are not identical\")\n"
   ]
  },
  {
   "cell_type": "raw",
   "id": "29a3bf27-8d29-4d9f-8727-407d65b94a90",
   "metadata": {},
   "source": [
    "23. Create a frozen set."
   ]
  },
  {
   "cell_type": "code",
   "execution_count": 42,
   "id": "9eed9bb0-dbb2-4c0a-9074-31001710df53",
   "metadata": {},
   "outputs": [
    {
     "name": "stdout",
     "output_type": "stream",
     "text": [
      "frozen set is  frozenset({2, 4, 6, 8, 10})\n"
     ]
    }
   ],
   "source": [
    "b = {2, 4, 6, 8, 10}\n",
    "a= frozenset(b)\n",
    "print(\"frozen set is \",a)"
   ]
  },
  {
   "cell_type": "raw",
   "id": "45904419-b785-4b3e-a988-9f5225c8b605",
   "metadata": {},
   "source": [
    "24. Check if a set is disjoint with another set."
   ]
  },
  {
   "cell_type": "code",
   "execution_count": 45,
   "id": "ad9f4d3c-637e-4db0-b609-0790ec2614dc",
   "metadata": {},
   "outputs": [
    {
     "data": {
      "text/plain": [
       "True"
      ]
     },
     "execution_count": 45,
     "metadata": {},
     "output_type": "execute_result"
    }
   ],
   "source": [
    "a = {1, 7, 3,9,1}\n",
    "b = {2, 4, 6, 8, 10}\n",
    "a.isdisjoint(b)"
   ]
  },
  {
   "cell_type": "raw",
   "id": "6599692d-4128-45cd-b915-f826bedf9d10",
   "metadata": {},
   "source": [
    "25. Create a set of squares of numbers from 1 to 5."
   ]
  },
  {
   "cell_type": "code",
   "execution_count": 46,
   "id": "61ec8ac8-102b-40c7-a6c1-b459422d9713",
   "metadata": {},
   "outputs": [
    {
     "name": "stdout",
     "output_type": "stream",
     "text": [
      "{1, 4, 9, 16, 25}\n"
     ]
    }
   ],
   "source": [
    "s={ x**2 for x in range(1,6)}\n",
    "print(s)"
   ]
  },
  {
   "cell_type": "raw",
   "id": "6e00fae6-e985-4142-93b6-c5ae1b358b2e",
   "metadata": {},
   "source": [
    "26. Filter out all even numbers from a set."
   ]
  },
  {
   "cell_type": "code",
   "execution_count": 49,
   "id": "8464530c-3455-4295-a799-a5bfb14cfb59",
   "metadata": {},
   "outputs": [
    {
     "name": "stdout",
     "output_type": "stream",
     "text": [
      "{2, 4, 6, 8, 10}\n"
     ]
    }
   ],
   "source": [
    "a={1, 2, 3, 4, 5, 6, 7, 8, 9, 10}\n",
    "s=set()\n",
    "for char in a:\n",
    "    if char%2==0:\n",
    "        s.add(char)\n",
    "print(s)"
   ]
  },
  {
   "cell_type": "raw",
   "id": "a0868d2d-bc71-4e40-9b8e-af5e9fad6e19",
   "metadata": {},
   "source": [
    "27. Multiply all elements in a set by 2."
   ]
  },
  {
   "cell_type": "code",
   "execution_count": 50,
   "id": "c04f3b59-7a0d-455d-ad3d-d3715e837582",
   "metadata": {},
   "outputs": [
    {
     "name": "stdout",
     "output_type": "stream",
     "text": [
      "{2, 4, 6, 8, 10, 12, 14, 16, 18, 20}\n"
     ]
    }
   ],
   "source": [
    "a={1, 2, 3, 4, 5, 6, 7, 8, 9, 10}\n",
    "s={ x*2 for x in a }\n",
    "print(s)"
   ]
  },
  {
   "cell_type": "raw",
   "id": "73282031-1205-48cd-9f07-63c83039dc85",
   "metadata": {},
   "source": [
    "28. Create a set of random numbers."
   ]
  },
  {
   "cell_type": "code",
   "execution_count": 59,
   "id": "3cc60a08-f57b-4ee4-b507-fe16f3d879c4",
   "metadata": {},
   "outputs": [
    {
     "name": "stdout",
     "output_type": "stream",
     "text": [
      "{1, 3, 4, 5, 9, 10}\n"
     ]
    }
   ],
   "source": [
    "import random\n",
    "s=set({})\n",
    "for x in range(10):\n",
    "    s.add( random.randint(1,10))\n",
    "print(s)"
   ]
  },
  {
   "cell_type": "raw",
   "id": "6e4206c2-7d09-49f3-bc57-db5a1ff4e164",
   "metadata": {},
   "source": [
    "29. Check if a set is empty."
   ]
  },
  {
   "cell_type": "code",
   "execution_count": 61,
   "id": "57fd5fb5-da7d-44dd-8153-2ae532a86180",
   "metadata": {},
   "outputs": [
    {
     "name": "stdout",
     "output_type": "stream",
     "text": [
      "set is not empty\n"
     ]
    }
   ],
   "source": [
    "s={1, 3, 4, 5, 9, 10}\n",
    "if len(s)==0:\n",
    "    print(\"Set is empty\")\n",
    "else:\n",
    "    print(\"set is not empty\")"
   ]
  },
  {
   "cell_type": "raw",
   "id": "c52c20c6-6b2f-4beb-bc18-f40f5ab36ec2",
   "metadata": {},
   "source": [
    "30. Create a nested set (hint: use frozenset)."
   ]
  },
  {
   "cell_type": "code",
   "execution_count": 63,
   "id": "f57cacb4-4090-47d1-9e11-a5712a10842b",
   "metadata": {},
   "outputs": [
    {
     "name": "stdout",
     "output_type": "stream",
     "text": [
      "Nested set: {frozenset({1, 2, 3}), frozenset({4, 5, 6}), frozenset({8, 9, 7})}\n"
     ]
    }
   ],
   "source": [
    "frozen_set1 = frozenset([1, 2, 3])\n",
    "frozen_set2 = frozenset([4, 5, 6])\n",
    "frozen_set3 = frozenset([7, 8, 9])\n",
    "nested_set = {frozen_set1, frozen_set2, frozen_set3}\n",
    "print(\"Nested set:\", nested_set)"
   ]
  },
  {
   "cell_type": "raw",
   "id": "0259acd3-222d-41e2-ab30-abc4acec1726",
   "metadata": {},
   "source": [
    "31. Remove an element from a set using the discard method."
   ]
  },
  {
   "cell_type": "code",
   "execution_count": 64,
   "id": "eeb5607b-ed5f-425e-8d05-7f92ffe69879",
   "metadata": {},
   "outputs": [
    {
     "name": "stdout",
     "output_type": "stream",
     "text": [
      "{1, 3, 4, 9, 10}\n"
     ]
    }
   ],
   "source": [
    "s={1, 3, 4, 5, 9, 10}\n",
    "s.discard(5)\n",
    "print(s)"
   ]
  },
  {
   "cell_type": "raw",
   "id": "de8e4695-8208-4404-9deb-5f00dc24737f",
   "metadata": {},
   "source": [
    "32. Compare two sets."
   ]
  },
  {
   "cell_type": "code",
   "execution_count": 66,
   "id": "c8dbfeee-47fd-48c7-a114-2278bcdbc13f",
   "metadata": {},
   "outputs": [
    {
     "data": {
      "text/plain": [
       "False"
      ]
     },
     "execution_count": 66,
     "metadata": {},
     "output_type": "execute_result"
    }
   ],
   "source": [
    "s1 = {1, 2, 3, 4, 5}\n",
    "s2 = {3, 4, 5, 6, 7}\n",
    "s1==s2"
   ]
  },
  {
   "cell_type": "raw",
   "id": "0522d0c7-1962-4bdd-97b3-c708530b1a75",
   "metadata": {},
   "source": [
    "33. Create a set from a string."
   ]
  },
  {
   "cell_type": "code",
   "execution_count": 68,
   "id": "fafe1d6c-9372-4634-98c2-a2b79cc74fc1",
   "metadata": {},
   "outputs": [
    {
     "name": "stdout",
     "output_type": "stream",
     "text": [
      "{'7', '3', '5', '2', '6', '4', '1'}\n"
     ]
    }
   ],
   "source": [
    "s=\"1234567\"\n",
    "a=set(s)\n",
    "print(a)"
   ]
  },
  {
   "cell_type": "raw",
   "id": "84566b64-6388-4f2e-8b11-0e10359c2ed1",
   "metadata": {},
   "source": [
    "34. Convert a set of strings to a set of integers."
   ]
  },
  {
   "cell_type": "code",
   "execution_count": 72,
   "id": "933a526f-a10d-4d65-82a9-3e27936e87be",
   "metadata": {},
   "outputs": [
    {
     "name": "stdout",
     "output_type": "stream",
     "text": [
      "{1, 2, 3, 4, 5, 6, 7}\n"
     ]
    }
   ],
   "source": [
    "s={'7', '3', '5', '2', '6', '4', '1'}\n",
    "a={int(x) for x in s}\n",
    "print(a)"
   ]
  },
  {
   "cell_type": "raw",
   "id": "0d14822f-8878-4e3f-855c-6fd5c968d679",
   "metadata": {},
   "source": [
    "35. Convert a set of integers to a set of strings."
   ]
  },
  {
   "cell_type": "code",
   "execution_count": 73,
   "id": "6a12cc69-adb0-4d78-8c83-b4aec66609e8",
   "metadata": {},
   "outputs": [
    {
     "name": "stdout",
     "output_type": "stream",
     "text": [
      "{'7', '3', '5', '2', '6', '4', '1'}\n"
     ]
    }
   ],
   "source": [
    "s={1, 2, 3, 4, 5, 6, 7}\n",
    "a={str(x) for x in s}\n",
    "print(a)"
   ]
  },
  {
   "cell_type": "code",
   "execution_count": 74,
   "id": "29e7c932-0322-4cbe-ab56-b69808a52952",
   "metadata": {},
   "outputs": [
    {
     "name": "stdout",
     "output_type": "stream",
     "text": [
      "{1, 2, 3, 4, 5, 6, 7}\n"
     ]
    }
   ],
   "source": [
    "t=(1,2,3,4,5,6,7)\n",
    "s=set(t)\n",
    "print(s)"
   ]
  },
  {
   "cell_type": "raw",
   "id": "cae59b29-2a9e-4026-b694-fb46903f5365",
   "metadata": {},
   "source": [
    "37. Convert a set to a tuple."
   ]
  },
  {
   "cell_type": "code",
   "execution_count": 75,
   "id": "2f4e6af3-2d4c-4bd4-8cdc-b83e2c1b992a",
   "metadata": {},
   "outputs": [
    {
     "name": "stdout",
     "output_type": "stream",
     "text": [
      "(1, 2, 3, 4, 5, 6, 7)\n"
     ]
    }
   ],
   "source": [
    "s={1, 2, 3, 4, 5, 6, 7}\n",
    "t=tuple(s)\n",
    "print(t)"
   ]
  },
  {
   "cell_type": "raw",
   "id": "e567de5b-b3ec-4d80-899c-5c6ca71aee95",
   "metadata": {},
   "source": [
    "38. Find the maximum value in a set."
   ]
  },
  {
   "cell_type": "code",
   "execution_count": 76,
   "id": "7baf00af-d01e-4614-b06b-1cdbc6424806",
   "metadata": {},
   "outputs": [
    {
     "name": "stdout",
     "output_type": "stream",
     "text": [
      "7\n"
     ]
    }
   ],
   "source": [
    "s={1, 2, 3, 4, 5, 6, 7}\n",
    "print(max(s))"
   ]
  },
  {
   "cell_type": "raw",
   "id": "7c0357e8-61a5-424c-a490-8f05ee9ad8e2",
   "metadata": {},
   "source": [
    "39. Find the minimum value in a set."
   ]
  },
  {
   "cell_type": "code",
   "execution_count": 77,
   "id": "952d0824-ccf7-42fc-af49-c6ffb147dc37",
   "metadata": {},
   "outputs": [
    {
     "name": "stdout",
     "output_type": "stream",
     "text": [
      "1\n"
     ]
    }
   ],
   "source": [
    "s={1, 2, 3, 4, 5, 6, 7}\n",
    "print(min(s))"
   ]
  },
  {
   "cell_type": "raw",
   "id": "6569130c-a915-4fe2-b9da-d2d82b73cf40",
   "metadata": {},
   "source": [
    "40. Create a set from user input."
   ]
  },
  {
   "cell_type": "code",
   "execution_count": 78,
   "id": "2852c430-dc38-4905-bd0f-fffa8b30fddd",
   "metadata": {},
   "outputs": [
    {
     "name": "stdin",
     "output_type": "stream",
     "text": [
      "Enter numbers with space 1 2 3 4 5 6\n"
     ]
    },
    {
     "name": "stdout",
     "output_type": "stream",
     "text": [
      "{'1 2 3 4 5 6'}\n"
     ]
    }
   ],
   "source": [
    "s={input(\"Enter numbers with space\")}\n",
    "print(s)"
   ]
  },
  {
   "cell_type": "raw",
   "id": "5958d984-99f4-4cd4-bb10-0cbc9cd9ed5c",
   "metadata": {},
   "source": [
    "41. Check if the intersection of two sets is empty."
   ]
  },
  {
   "cell_type": "code",
   "execution_count": 80,
   "id": "50b9fe61-451d-4e00-8840-a9ba11db9b6e",
   "metadata": {},
   "outputs": [
    {
     "data": {
      "text/plain": [
       "set()"
      ]
     },
     "execution_count": 80,
     "metadata": {},
     "output_type": "execute_result"
    }
   ],
   "source": [
    "set1 = {1, 2, 0, 8, 10}\n",
    "set2 = {3, 4, 5, 6, 7}\n",
    "set1.intersection(set2)"
   ]
  },
  {
   "cell_type": "raw",
   "id": "b5850e0a-a954-4713-90cc-a8d80f1bd14e",
   "metadata": {},
   "source": [
    "42. Create a set of the first 5 Fibonacci numbers."
   ]
  },
  {
   "cell_type": "code",
   "execution_count": 83,
   "id": "fbd97689-b4aa-4cd9-84c1-8ced5e742de9",
   "metadata": {},
   "outputs": [
    {
     "name": "stdout",
     "output_type": "stream",
     "text": [
      "{0, 1, 2, 3, 5}\n"
     ]
    }
   ],
   "source": [
    "fibonacci_set = set()\n",
    "a, b = 0, 1\n",
    "for _ in range(6):\n",
    "    fibonacci_set.add(a)\n",
    "    a, b = b, a + b\n",
    "print(fibonacci_set)"
   ]
  },
  {
   "cell_type": "raw",
   "id": "082ec4ef-dcec-4244-86a1-79ce25149736",
   "metadata": {},
   "source": [
    "43. Remove duplicates from a list using sets."
   ]
  },
  {
   "cell_type": "code",
   "execution_count": 84,
   "id": "340c6a49-a0c8-406d-b255-7a03d753808c",
   "metadata": {},
   "outputs": [
    {
     "name": "stdout",
     "output_type": "stream",
     "text": [
      "{1, 2, 3, 4, 5, 6, 7}\n"
     ]
    }
   ],
   "source": [
    "l=[1, 2, 3, 4, 1,3, 4, 5, 6, 7]\n",
    "s=set(l)\n",
    "print(s)"
   ]
  },
  {
   "cell_type": "raw",
   "id": "41c9f478-5495-4d10-a2ac-df8dc2bdb726",
   "metadata": {},
   "source": [
    "44. Check if two sets have the same elements, regardless of their count."
   ]
  },
  {
   "cell_type": "code",
   "execution_count": 86,
   "id": "bec420d2-b66d-4dc0-8c30-0e0570a5bbdb",
   "metadata": {},
   "outputs": [
    {
     "name": "stdout",
     "output_type": "stream",
     "text": [
      "True\n"
     ]
    }
   ],
   "source": [
    "from collections import Counter\n",
    "set1 = {1, 2, 2, 3, 3, 3}\n",
    "set2 = {3, 3, 2, 2, 1}\n",
    "same_elements = Counter(set1) == Counter(set2)\n",
    "print(same_elements)"
   ]
  },
  {
   "cell_type": "raw",
   "id": "7676d12c-89fd-4087-bf30-81f264fbcc9d",
   "metadata": {},
   "source": [
    "45. Create a set of the first `n` powers of 2."
   ]
  },
  {
   "cell_type": "code",
   "execution_count": 88,
   "id": "6c16e904-f9ea-4b31-88d8-9c9dc85efb3c",
   "metadata": {},
   "outputs": [
    {
     "name": "stdout",
     "output_type": "stream",
     "text": [
      "{64, 1, 4, 36, 9, 16, 49, 81, 25}\n"
     ]
    }
   ],
   "source": [
    "s={ x**2 for x in range (1,10)}\n",
    "print(s)"
   ]
  },
  {
   "cell_type": "raw",
   "id": "09f2a240-74ff-4233-b4a7-41df4fb3b522",
   "metadata": {},
   "source": [
    "46. Find the common elements between a set and a list."
   ]
  },
  {
   "cell_type": "code",
   "execution_count": 89,
   "id": "c55c4fea-6e3b-46f4-aed7-b9a4b6f21b2f",
   "metadata": {},
   "outputs": [
    {
     "name": "stdout",
     "output_type": "stream",
     "text": [
      "{1, 2}\n"
     ]
    }
   ],
   "source": [
    "set1 = {1, 2, 4, 5, 6, 1}\n",
    "lst = [3, 3, 2, 2, 1]\n",
    "s=set(lst)\n",
    "print(set1.intersection(s))"
   ]
  },
  {
   "cell_type": "raw",
   "id": "77a8a66c-bf6f-46ff-b530-c07ddb864108",
   "metadata": {},
   "source": [
    "47. Create a set of the first `n` triangular numbers."
   ]
  },
  {
   "cell_type": "code",
   "execution_count": 91,
   "id": "2a6460db-2f23-467d-a69b-a4d0db6f7068",
   "metadata": {},
   "outputs": [
    {
     "name": "stdout",
     "output_type": "stream",
     "text": [
      "{1, 3, 6, 10, 15}\n"
     ]
    }
   ],
   "source": [
    "triangular_set = set()\n",
    "for i in range(1, 5 + 1):\n",
    "    triangular_number = i * (i + 1) // 2\n",
    "    triangular_set.add(triangular_number)\n",
    "print(triangular_set)"
   ]
  },
  {
   "cell_type": "raw",
   "id": "9af7e7ff-e526-4c30-a5c9-d062d9ccd07d",
   "metadata": {},
   "source": [
    "48. Check if a set contains another set as a subset."
   ]
  },
  {
   "cell_type": "code",
   "execution_count": 94,
   "id": "31db34c2-6bdd-4e06-bedc-d8b61dade564",
   "metadata": {},
   "outputs": [
    {
     "name": "stdout",
     "output_type": "stream",
     "text": [
      "set contains another set as a subset : True\n"
     ]
    }
   ],
   "source": [
    "set1 = {1, 2, 3, 4, 5}\n",
    "set2 = {3, 4}\n",
    "print(\"set contains another set as a subset :\",set2.issubset(set1))"
   ]
  },
  {
   "cell_type": "raw",
   "id": "f4317447-c997-4453-af2b-07986b197a7e",
   "metadata": {},
   "source": [
    "49. Create a set of alternating 1s and 0s of length `n`."
   ]
  },
  {
   "cell_type": "code",
   "execution_count": 95,
   "id": "6c64b30c-162b-433c-9df2-eec7eb2a6f83",
   "metadata": {},
   "outputs": [
    {
     "name": "stdout",
     "output_type": "stream",
     "text": [
      "{0, 1}\n"
     ]
    }
   ],
   "source": [
    "set1 = {1 if i % 2 == 0 else 0 for i in range(10)}\n",
    "print(set1)"
   ]
  },
  {
   "cell_type": "raw",
   "id": "fa517069-d89e-4aa9-84a1-6242ca858c7e",
   "metadata": {},
   "source": [
    "50. Merge multiple sets into one."
   ]
  },
  {
   "cell_type": "code",
   "execution_count": 96,
   "id": "dcee9b73-9adc-4491-a3e1-10dd40484c7e",
   "metadata": {},
   "outputs": [
    {
     "name": "stdout",
     "output_type": "stream",
     "text": [
      "{64, 1, 2, 3, 4, 36, 5, 6, 9, 10, 15, 16, 49, 81, 25}\n"
     ]
    }
   ],
   "source": [
    "s1={64, 1, 4, 36, 9, 16, 49, 81, 25}\n",
    "s2= {1, 2, 3, 4, 5}\n",
    "s3={1, 3, 6, 10, 15}\n",
    "result=s1.union(s2,s3)\n",
    "print(result)"
   ]
  },
  {
   "cell_type": "code",
   "execution_count": null,
   "id": "7e3da5cb-9b98-40ae-8ddd-f64b719c6e02",
   "metadata": {},
   "outputs": [],
   "source": []
  }
 ],
 "metadata": {
  "kernelspec": {
   "display_name": "Python 3 (ipykernel)",
   "language": "python",
   "name": "python3"
  },
  "language_info": {
   "codemirror_mode": {
    "name": "ipython",
    "version": 3
   },
   "file_extension": ".py",
   "mimetype": "text/x-python",
   "name": "python",
   "nbconvert_exporter": "python",
   "pygments_lexer": "ipython3",
   "version": "3.10.8"
  }
 },
 "nbformat": 4,
 "nbformat_minor": 5
}
